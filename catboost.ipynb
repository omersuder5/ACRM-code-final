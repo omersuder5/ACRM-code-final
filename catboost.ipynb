{
 "cells": [
  {
   "cell_type": "code",
   "execution_count": 152,
   "metadata": {},
   "outputs": [],
   "source": [
    "import xgboost as xgb\n",
    "from sklearn.model_selection import GridSearchCV\n",
    "import catboost as cb\n",
    "from catboost import CatBoostClassifier, Pool\n",
    "import torch\n",
    "import torch.nn as nn\n",
    "import torch.nn.functional as F\n",
    "import pandas as pd\n",
    "import numpy as np\n",
    "import sklearn \n",
    "import matplotlib.pyplot as plt \n",
    "from sklearn.model_selection import train_test_split\n",
    "from sklearn.model_selection import train_test_split\n",
    "from sklearn.linear_model import LogisticRegression\n",
    "from sklearn.metrics import accuracy_score, classification_report\n",
    "import scipy.sparse as sp\n",
    "import torch.optim as optim\n",
    "from sklearn.metrics import roc_curve, auc\n",
    "import seaborn as sns\n",
    "from sklearn.preprocessing import RobustScaler\n",
    "from sklearn.feature_selection import RFE\n",
    "from sklearn.linear_model import LogisticRegression\n",
    "from sklearn.datasets import make_classification\n",
    "from imblearn.over_sampling import SMOTE\n",
    "from sklearn.metrics import confusion_matrix\n",
    "from sklearn.experimental import enable_iterative_imputer\n",
    "from sklearn.impute import IterativeImputer\n",
    "from sklearn.ensemble import BaggingClassifier\n",
    "%matplotlib inline\n"
   ]
  },
  {
   "cell_type": "code",
   "execution_count": 153,
   "metadata": {},
   "outputs": [
    {
     "name": "stdout",
     "output_type": "stream",
     "text": [
      "Before dropping na:  (396030, 25)\n",
      "emp_length              18301\n",
      "revol_util                276\n",
      "mort_acc                37795\n",
      "pub_rec_bankruptcies      536\n",
      "dtype: int64\n"
     ]
    }
   ],
   "source": [
    "df1 = pd.read_csv('Lending_Club_modelling_data_part1.txt', delimiter='\\t')\n",
    "df2 = pd.read_csv('Lending_Club_modelling_data_part2.txt', delimiter='\\t', dtype={'column_name': str}, low_memory=False)\n",
    "df3 = pd.read_csv('Lending_Club_modelling_data_part3.txt', delimiter='\\t')\n",
    "df4 = pd.read_csv('Lending_Club_modelling_data_part4.txt', delimiter='\\t')\n",
    "\n",
    "#merged data\n",
    "df = pd.concat([df1, df2, df3, df4], ignore_index=True)\n",
    "print(\"Before dropping na: \",df.shape)\n",
    "\n",
    "# Drop the title column because it is the same information as purpose\n",
    "df = df.drop('title', axis=1)\n",
    "\n",
    "# Drop application_type, pub_rec, address, initial_list_status, pub_rec_bankruptcies columns since they are useless after checking catboost feature importance\n",
    "#df = df.drop(['application_type', 'pub_rec', 'address', 'initial_list_status', 'pub_rec_bankruptcies'], axis=1)\n",
    "\n",
    "# Fill missing values in 'address' column with the wrong address in mort_acc column\n",
    "df['address'] = df['address'].fillna( '76093 Nicole Parks\\r\\nEast Donaldfurt, IN 70466')\n",
    "\n",
    "# Replace missing values in 'emp_title' column with 'Unknown'\n",
    "df['emp_title'] = df['emp_title'].fillna('Unknown')\n",
    "\n",
    "# Try dropping employmeny title column\n",
    "#df = df.drop('emp_title', axis=1)\n",
    "\n",
    "#print rows with missing values, show only if different from 0\n",
    "print(df.isnull().sum()[df.isnull().sum() > 0])\n",
    "\n",
    "#replace target variable values with 0 and 1\n",
    "df['loan_status'] = df['loan_status'].replace({'Charged Off': 1, 'Fully Paid': 0})\n",
    "\n",
    "# Convert 'issue_d' column to datetime format\n",
    "df['issue_d'] = pd.to_datetime(df['issue_d'], format='%b-%Y')\n",
    "\n",
    "# Replace values in 'emp_length' column with numerical values\n",
    "emp_length_map = {\n",
    "    '< 1 year': 0, '1 year': 1, '2 years': 2, '3 years': 3, '4 years': 4, '5 years': 5,\n",
    "    '6 years': 6, '7 years': 7, '8 years': 8, '9 years': 9, '10+ years': 10\n",
    "}\n",
    "df['emp_length'] = df['emp_length'].replace(emp_length_map)\n",
    "\n",
    "# Correct types of columns\n",
    "df['revol_util'] = df['revol_util'].replace({'f':'NaN'})\n",
    "df['revol_util'] = df['revol_util'].astype(float)\n",
    "df['total_acc'] = df['revol_util'].replace({'INDIVIDUAL':'NaN'})\n",
    "df['total_acc'] = df['total_acc'].astype(float)\n",
    "df['mort_acc'] = df['mort_acc'].replace({'76093 Nicole Parks\\r\\nEast Donaldfurt, IN 70466':'NaN'})\n",
    "df['mort_acc'] = df['mort_acc'].astype(float)\n"
   ]
  },
  {
   "cell_type": "markdown",
   "metadata": {},
   "source": [
    "# Net Profit function"
   ]
  },
  {
   "cell_type": "code",
   "execution_count": 154,
   "metadata": {},
   "outputs": [],
   "source": [
    "# Define the net_profit function \n",
    "def net_profit(y_pred, df):\n",
    "    # Extract relevant columns from DataFrame as NumPy arrays\n",
    "    loan_amnt = df['loan_amnt'].values\n",
    "    int_rate = df['int_rate'].values\n",
    "    loan_status = df['loan_status'].values\n",
    "    \n",
    "    # Who received loans with the model\n",
    "    index = (y_pred == 0)\n",
    "    # Who paid back the loans\n",
    "    index_payback = (loan_status == 0)\n",
    "    # Who defaulted on the loans\n",
    "    index_default = (loan_status == 1)\n",
    "    \n",
    "    # Calculate profit for loans that were paid back\n",
    "    paid_back_loans = index & index_payback\n",
    "    profit_paid_back = loan_amnt[paid_back_loans] * (int_rate[paid_back_loans] / 100)\n",
    "    total_profit = np.sum(profit_paid_back)\n",
    "    \n",
    "    # Calculate loss for loans that defaulted\n",
    "    defaulted_loans = index & index_default\n",
    "    loss_defaulted = loan_amnt[defaulted_loans] * 0.5\n",
    "    total_loss = np.sum(loss_defaulted)\n",
    "    \n",
    "    return total_profit - total_loss"
   ]
  },
  {
   "cell_type": "markdown",
   "metadata": {},
   "source": [
    "# second net profit function with installments"
   ]
  },
  {
   "cell_type": "code",
   "execution_count": 155,
   "metadata": {},
   "outputs": [],
   "source": [
    "# Define the net_profit function \n",
    "def net_profit2(y_pred, df):\n",
    "    # Extract relevant columns from DataFrame as NumPy arrays\n",
    "    loan_amnt = df['loan_amnt'].values\n",
    "    installment = df['installment'].values\n",
    "    term = df['term'].replace({-1: 36, 1: 60}).values\n",
    "    loan_status = df['loan_status'].values\n",
    "    \n",
    "    # Who received loans with the model\n",
    "    index = (y_pred == 0)\n",
    "    # Who paid back the loans\n",
    "    index_payback = (loan_status == 0)\n",
    "    # Who defaulted on the loans\n",
    "    index_default = (loan_status == 1)\n",
    "    \n",
    "    # Calculate profit for loans that were paid back\n",
    "    paid_back_loans = index & index_payback\n",
    "    profit_paid_back = installment[paid_back_loans]*term[paid_back_loans]-loan_amnt[paid_back_loans]\n",
    "    total_profit = np.sum(profit_paid_back)\n",
    "    \n",
    "    # Calculate loss for loans that defaulted\n",
    "    defaulted_loans = index & index_default\n",
    "    loss_defaulted = loan_amnt[defaulted_loans] * 0.5 #paid back %50 of the loan before defalting (assumption)\n",
    "    total_loss = np.sum(loss_defaulted)\n",
    "    \n",
    "    return total_profit - total_loss\n",
    "    #return total_profit,total_loss,total_profit - total_loss"
   ]
  },
  {
   "cell_type": "markdown",
   "metadata": {},
   "source": [
    "# Preprocessing"
   ]
  },
  {
   "cell_type": "code",
   "execution_count": 156,
   "metadata": {},
   "outputs": [],
   "source": [
    "# Convert 'issue_d' column to datetime format\n",
    "df['issue_d'] = pd.to_datetime(df['issue_d'], format='%b-%Y')"
   ]
  },
  {
   "cell_type": "markdown",
   "metadata": {},
   "source": [
    "# -----------------------------------------------------"
   ]
  },
  {
   "cell_type": "markdown",
   "metadata": {},
   "source": [
    "# Feature Engineering"
   ]
  },
  {
   "cell_type": "code",
   "execution_count": 157,
   "metadata": {},
   "outputs": [],
   "source": [
    "df_original=df.copy()\n",
    "# Separate the data into three groups based on the year ranges\n",
    "original_training_set = df_original[df_original['issue_d'].dt.year < 2015]\n",
    "original_validation_set = df_original[df_original['issue_d'].dt.year == 2015]\n",
    "original_test_set = df_original[df_original['issue_d'].dt.year == 2016]\n",
    "\n",
    "# Optionally, you may want to reset the index for each subset\n",
    "original_training_set.reset_index(drop=True, inplace=True)\n",
    "original_validation_set.reset_index(drop=True, inplace=True)\n",
    "original_test_set.reset_index(drop=True, inplace=True)"
   ]
  },
  {
   "cell_type": "code",
   "execution_count": 158,
   "metadata": {},
   "outputs": [],
   "source": [
    "# df['annual_inc']=df['annual_inc']/12 #convert annual income to monthly income\n",
    "# df['installment_over_income'] = df['installment'] / df['annual_inc']\n",
    "# df['installment_over_income'] = df['installment_over_income'].replace([np.inf, -np.inf], np.nan)\n",
    "# df.drop('installment', axis=1, inplace=True) #drop this column as it is redundant\n",
    "# df.drop('int_rate', axis=1, inplace=True) #redundant\n",
    "# df.drop('loan_amnt', axis=1, inplace=True)\n",
    "# df.drop('annual_inc', axis=1, inplace=True) #drop this column as it is redundant\n",
    "\n"
   ]
  },
  {
   "cell_type": "markdown",
   "metadata": {},
   "source": [
    "# -----------------------------------------------------"
   ]
  },
  {
   "cell_type": "code",
   "execution_count": 159,
   "metadata": {},
   "outputs": [
    {
     "name": "stdout",
     "output_type": "stream",
     "text": [
      "Number of rows in training set: 273678\n",
      "Number of rows in validation set: 94264\n",
      "Number of rows in test set: 28088\n"
     ]
    }
   ],
   "source": [
    "\n",
    "# Convert term to float\n",
    "df['term'] = df['term'].str.replace(' months', '').astype(float)\n",
    "\n",
    "# Separate the data into three groups based on the year ranges\n",
    "training_set = df[df['issue_d'].dt.year < 2015]\n",
    "validation_set = df[df['issue_d'].dt.year == 2015]\n",
    "test_set = df[df['issue_d'].dt.year == 2016]\n",
    "\n",
    "\n",
    "# Try dropping the issue date column from each set as it might fail to generalize\n",
    "training_set = training_set.drop('issue_d', axis=1)\n",
    "validation_set = validation_set.drop('issue_d', axis=1)\n",
    "test_set = test_set.drop('issue_d', axis=1)\n",
    "\n",
    "# Optionally, you may want to reset the index for each subset\n",
    "training_set.reset_index(drop=True, inplace=True)\n",
    "validation_set.reset_index(drop=True, inplace=True)\n",
    "test_set.reset_index(drop=True, inplace=True)\n",
    "\n",
    "# Print the number of rows in each group\n",
    "print(\"Number of rows in training set:\", len(training_set))\n",
    "print(\"Number of rows in validation set:\", len(validation_set))\n",
    "print(\"Number of rows in test set:\", len(test_set))"
   ]
  },
  {
   "cell_type": "markdown",
   "metadata": {},
   "source": [
    "We use the iterative imputer now that the only missing values are numerical. First we train the iterative imputer with the training_set to fill the training set. Then the same imputer will be used to fill the validation and the test set. "
   ]
  },
  {
   "cell_type": "code",
   "execution_count": 160,
   "metadata": {},
   "outputs": [
    {
     "name": "stdout",
     "output_type": "stream",
     "text": [
      "Missing values in the training set:\n",
      "emp_length              11597\n",
      "revol_util                208\n",
      "total_acc                 208\n",
      "mort_acc                37796\n",
      "pub_rec_bankruptcies      536\n",
      "dtype: int64\n"
     ]
    }
   ],
   "source": [
    "print(\"Missing values in the training set:\")\n",
    "print(training_set.isnull().sum()[training_set.isnull().sum() > 0])"
   ]
  },
  {
   "cell_type": "code",
   "execution_count": 161,
   "metadata": {},
   "outputs": [
    {
     "name": "stdout",
     "output_type": "stream",
     "text": [
      "['emp_title', 'home_ownership', 'verification_status', 'purpose', 'earliest_cr_line', 'initial_list_status', 'application_type', 'address']\n",
      "['loan_amnt', 'term', 'int_rate', 'installment', 'emp_length', 'annual_inc', 'loan_status', 'dti', 'open_acc', 'pub_rec', 'revol_bal', 'revol_util', 'total_acc', 'mort_acc', 'pub_rec_bankruptcies']\n",
      "23\n"
     ]
    }
   ],
   "source": [
    "categorical_columns = training_set.select_dtypes(include='object').columns.tolist()\n",
    "print(categorical_columns)\n",
    "numerical_columns = training_set.select_dtypes(include=['int64', 'float64']).columns.tolist()\n",
    "print(numerical_columns)\n",
    "print(len(numerical_columns)+len(categorical_columns))"
   ]
  },
  {
   "cell_type": "code",
   "execution_count": 162,
   "metadata": {},
   "outputs": [
    {
     "name": "stdout",
     "output_type": "stream",
     "text": [
      "Missing values in the training set:\n",
      "Series([], dtype: int64)\n"
     ]
    }
   ],
   "source": [
    "num_training_set = training_set[numerical_columns].drop('loan_status', axis=1)\n",
    "numerical_columns_without_loan_status= num_training_set.columns\n",
    "imputer = IterativeImputer(random_state=0)\n",
    "imputer.fit(num_training_set)\n",
    "\n",
    "imputed_array = imputer.transform(num_training_set[numerical_columns_without_loan_status])\n",
    "num_training_set = pd.DataFrame(imputed_array, columns=numerical_columns_without_loan_status)\n",
    "\n",
    "# Concatenate imputed features with target variable\n",
    "training_set[numerical_columns_without_loan_status] = num_training_set\n",
    "\n",
    "# Check for missing values in the training set\n",
    "print(\"Missing values in the training set:\")\n",
    "print(training_set.isnull().sum()[training_set.isnull().sum() > 0])"
   ]
  },
  {
   "cell_type": "markdown",
   "metadata": {},
   "source": [
    "REMARK: catboost works as good even without the imputer"
   ]
  },
  {
   "cell_type": "markdown",
   "metadata": {},
   "source": [
    "# Model"
   ]
  },
  {
   "cell_type": "markdown",
   "metadata": {},
   "source": [
    "Apply cat boost on the entire training set. Don't need to preprocess because it can handle categorical data really well, just need to specify it. Also scaling is irrelevant because it works like a tree in that sense. "
   ]
  },
  {
   "cell_type": "code",
   "execution_count": 163,
   "metadata": {},
   "outputs": [],
   "source": [
    "categorical_columns = training_set.select_dtypes(include='object').columns.tolist()\n",
    "\n",
    "# Split features and target\n",
    "X_train = training_set.drop(\"loan_status\", axis=1)\n",
    "y_train = training_set[\"loan_status\"]\n",
    "\n",
    "# Initialize CatBoost classifier\n",
    "model = CatBoostClassifier(iterations=1000, \n",
    "                           learning_rate=0.1, \n",
    "                           depth=6, \n",
    "                           loss_function='Logloss',\n",
    "                           scale_pos_weight=3, \n",
    "                           l2_leaf_reg=2,\n",
    "                           #random_strength=6,\n",
    "                           verbose=False)\n",
    "\n",
    "# Fit model\n",
    "model.fit(X_train, y_train,cat_features=categorical_columns)\n",
    "\n",
    "# Predictions\n",
    "y_pred = model.predict(X_train)"
   ]
  },
  {
   "cell_type": "markdown",
   "metadata": {},
   "source": [
    "Here scaling is important. With 2 i get higher accuracy in the validation set but 0.5 false positive rate (almost overfitting the training set). With 3 or 4 i get a result similar to logistic regression with 3 having higher accuracy but also higher false positive rate."
   ]
  },
  {
   "cell_type": "markdown",
   "metadata": {},
   "source": [
    "Profit improvement in the training set"
   ]
  },
  {
   "cell_type": "code",
   "execution_count": 164,
   "metadata": {},
   "outputs": [
    {
     "name": "stdout",
     "output_type": "stream",
     "text": [
      "Index(['loan_amnt', 'term', 'int_rate', 'installment', 'emp_title',\n",
      "       'emp_length', 'home_ownership', 'annual_inc', 'verification_status',\n",
      "       'issue_d', 'loan_status', 'purpose', 'dti', 'earliest_cr_line',\n",
      "       'open_acc', 'pub_rec', 'revol_bal', 'revol_util', 'total_acc',\n",
      "       'initial_list_status', 'application_type', 'mort_acc',\n",
      "       'pub_rec_bankruptcies', 'address'],\n",
      "      dtype='object')\n"
     ]
    }
   ],
   "source": [
    "print(original_training_set.columns)"
   ]
  },
  {
   "cell_type": "code",
   "execution_count": 165,
   "metadata": {},
   "outputs": [
    {
     "name": "stdout",
     "output_type": "stream",
     "text": [
      "Net profit: 363841764.8850001\n",
      "Net profit original: 33980007.84500003\n",
      "Improved profit: 329861757.0400001\n"
     ]
    }
   ],
   "source": [
    "# net profit of the model\n",
    "net_train_profit_model=net_profit(y_pred,original_training_set)\n",
    "print(\"Net profit:\", net_train_profit_model)\n",
    "\n",
    "# Create vector of 0s (i.e. everyone receievd the loan in the training set) of size equal to the number of rows in the training set \n",
    "zeros=np.zeros(len(original_training_set))\n",
    "net_train_profit=net_profit(zeros,original_training_set)\n",
    "print(\"Net profit original:\", net_train_profit)\n",
    "\n",
    "improved_profit=net_train_profit_model-net_train_profit\n",
    "print(\"Improved profit:\", improved_profit)"
   ]
  },
  {
   "cell_type": "markdown",
   "metadata": {},
   "source": [
    "Performance on the training set (I OVERFIT!!)"
   ]
  },
  {
   "cell_type": "code",
   "execution_count": 166,
   "metadata": {},
   "outputs": [
    {
     "name": "stdout",
     "output_type": "stream",
     "text": [
      "Training set: \n",
      "Accuracy: 0.963877257214683\n",
      "Classification Report:\n",
      "              precision    recall  f1-score   support\n",
      "\n",
      "           0       0.98      0.97      0.98    223166\n",
      "           1       0.89      0.92      0.90     50512\n",
      "\n",
      "    accuracy                           0.96    273678\n",
      "   macro avg       0.93      0.95      0.94    273678\n",
      "weighted avg       0.96      0.96      0.96    273678\n",
      "\n",
      "True Negative Rate (non default as non default): 0.9736653432870599\n",
      "True Positive Rate (default as default): 0.920632720937599\n"
     ]
    }
   ],
   "source": [
    "# Confusion matrix\n",
    "conf_matrix = confusion_matrix(y_train, y_pred)\n",
    "\n",
    "# Evaluate model\n",
    "print(\"Training set: \")\n",
    "accuracy = accuracy_score(y_train, y_pred)\n",
    "print(\"Accuracy:\", accuracy)\n",
    "print(\"Classification Report:\")\n",
    "print(classification_report(y_train, y_pred))\n",
    "\n",
    "TN, FP, FN, TP = conf_matrix.ravel()\n",
    "\n",
    "true_negative_rate = TN / (TN + FP)\n",
    "true_positive_rate = TP / (TP + FN)\n",
    "print(\"True Negative Rate (non default as non default):\", true_negative_rate)\n",
    "print(\"True Positive Rate (default as default):\", true_positive_rate)\n",
    "\n",
    "# true_positives = np.sum((y_train == 1) & (y_pred == 1))\n",
    "# false_positives = np.sum((y_train == 0) & (y_pred == 1)) \n",
    "# false_negatives = np.sum((y_train == 1) & (y_pred == 0))\n",
    "# true_negatives = np.sum((y_train == 0) & (y_pred == 0))   \n",
    "\n",
    "# true_negative_rate = true_negatives / (true_negatives + false_positives)\n",
    "# true_positive_rate = true_positives / (true_positives + false_negatives)\n",
    "# print(\"True Negative Rate (non default as non default):\", true_negative_rate)\n",
    "# print(\"True Positive Rate (default as default):\", true_positive_rate)\n",
    "# print(f\"Confusion Matrix:\\n{conf_matrix}\")"
   ]
  },
  {
   "cell_type": "markdown",
   "metadata": {},
   "source": [
    "REMARK: overfitting decerased when i dropped the columns that had the least effect. I also have slightly better accuracy (higher true and false positive) in the validation set but results are still really similar to those of the logistic regression. "
   ]
  },
  {
   "cell_type": "code",
   "execution_count": 167,
   "metadata": {},
   "outputs": [
    {
     "name": "stdout",
     "output_type": "stream",
     "text": [
      "                 Feature  Importance\n",
      "2               int_rate   19.133199\n",
      "7             annual_inc    9.481402\n",
      "11      earliest_cr_line    7.206621\n",
      "10                   dti    6.740871\n",
      "14             revol_bal    6.730044\n",
      "4              emp_title    6.672627\n",
      "3            installment    5.398435\n",
      "0              loan_amnt    4.927501\n",
      "12              open_acc    4.747205\n",
      "19              mort_acc    4.565498\n",
      "1                   term    4.258903\n",
      "15            revol_util    4.038923\n",
      "5             emp_length    3.078359\n",
      "9                purpose    2.935546\n",
      "6         home_ownership    2.382157\n",
      "8    verification_status    2.341492\n",
      "16             total_acc    1.512990\n",
      "17   initial_list_status    1.333279\n",
      "20  pub_rec_bankruptcies    0.993302\n",
      "13               pub_rec    0.810053\n",
      "21               address    0.711595\n",
      "18      application_type    0.000000\n"
     ]
    }
   ],
   "source": [
    "# Get feature importances\n",
    "feature_importances = model.get_feature_importance()\n",
    "\n",
    "# Create a DataFrame to display feature importances\n",
    "importance_df = pd.DataFrame({'Feature': X_train.columns, 'Importance': feature_importances})\n",
    "importance_df = importance_df.sort_values(by='Importance', ascending=False)\n",
    "print(importance_df)"
   ]
  },
  {
   "cell_type": "code",
   "execution_count": 168,
   "metadata": {},
   "outputs": [
    {
     "data": {
      "image/png": "[encoded data removed]",
      "text/plain": [
       "<Figure size 1000x600 with 1 Axes>"
      ]
     },
     "metadata": {},
     "output_type": "display_data"
    }
   ],
   "source": [
    "# Sort the dataframe by Importance and select the top ten features\n",
    "top_features = importance_df.nlargest(10, 'Importance')\n",
    "\n",
    "# Plotting the top ten features and their importances\n",
    "plt.figure(figsize=(10, 6))\n",
    "plt.barh(top_features['Feature'], top_features['Importance'], color='skyblue')\n",
    "plt.xlabel('Importance')\n",
    "plt.ylabel('Feature')\n",
    "plt.title('Top Ten Feature Importances')\n",
    "plt.gca().invert_yaxis()  # Invert y-axis to display most important features on top\n",
    "plt.show()"
   ]
  },
  {
   "cell_type": "markdown",
   "metadata": {},
   "source": [
    "Check performance on the validation set."
   ]
  },
  {
   "cell_type": "code",
   "execution_count": 169,
   "metadata": {},
   "outputs": [
    {
     "name": "stdout",
     "output_type": "stream",
     "text": [
      "Validation set: \n",
      "Accuracy: 0.7055715861834847\n",
      "Classification Report:\n",
      "              precision    recall  f1-score   support\n",
      "\n",
      "           0       0.83      0.76      0.79     70791\n",
      "           1       0.43      0.54      0.48     23473\n",
      "\n",
      "    accuracy                           0.71     94264\n",
      "   macro avg       0.63      0.65      0.64     94264\n",
      "weighted avg       0.73      0.71      0.72     94264\n",
      "\n",
      "True Negative Rate (non default as non default): 0.7590512918308825\n",
      "True Positive Rate (default as default): 0.5442849231031398\n"
     ]
    }
   ],
   "source": [
    "X_val = validation_set.drop(\"loan_status\", axis=1)\n",
    "y_val = validation_set[\"loan_status\"]\n",
    "\n",
    "# Impute missing values in the validation set\n",
    "imputed_array = imputer.transform(X_val[numerical_columns_without_loan_status])\n",
    "intermediate = pd.DataFrame(imputed_array, columns=numerical_columns_without_loan_status)\n",
    "X_val[numerical_columns_without_loan_status] = intermediate\n",
    "\n",
    "# Predictions\n",
    "y_pred_val = model.predict(X_val)\n",
    "\n",
    "# Confusion matrix\n",
    "conf_matrix = confusion_matrix(y_val, y_pred_val)\n",
    "\n",
    "# Evaluate model\n",
    "print(\"Validation set: \")\n",
    "accuracy = accuracy_score(y_val, y_pred_val)\n",
    "print(\"Accuracy:\", accuracy)\n",
    "print(\"Classification Report:\")\n",
    "print(classification_report(y_val, y_pred_val))\n",
    "\n",
    "TN, FP, FN, TP = conf_matrix.ravel()\n",
    "\n",
    "true_negative_rate = TN / (TN + FP)\n",
    "true_positive_rate = TP / (TP + FN)\n",
    "print(\"True Negative Rate (non default as non default):\", true_negative_rate)\n",
    "print(\"True Positive Rate (default as default):\", true_positive_rate)\n",
    "\n",
    "# true_negatives = np.sum((y_val == 1) & (y_pred_val == 1))\n",
    "# false_negatives = np.sum((y_val == 0) & (y_pred_val == 1))\n",
    "# true_positives = np.sum((y_val == 0) & (y_pred_val == 0))   \n",
    "# false_positives = np.sum((y_val == 1) & (y_pred_val == 0)) #important!\n",
    "\n",
    "# true_positive_rate = true_positives / (true_positives + false_negatives)\n",
    "# false_positive_rate = false_positives / (false_positives + true_negatives)\n",
    "# print(\"True Positive Rate:\", true_positive_rate)\n",
    "# print(\"False Positive Rate:\", false_positive_rate)\n",
    "# print(f\"Confusion Matrix:\\n{conf_matrix}\")"
   ]
  },
  {
   "cell_type": "markdown",
   "metadata": {},
   "source": [
    "profit improvement of the model in the validation set "
   ]
  },
  {
   "cell_type": "code",
   "execution_count": 170,
   "metadata": {},
   "outputs": [
    {
     "name": "stdout",
     "output_type": "stream",
     "text": [
      "Net profit: 8283324.732500002\n",
      "Net profit original: -48272015.629999995\n",
      "Improved profit: 56555340.3625\n"
     ]
    }
   ],
   "source": [
    "# net profit of the model\n",
    "net_val_profit_model=net_profit(y_pred_val,original_validation_set)\n",
    "print(\"Net profit:\", net_val_profit_model)\n",
    "\n",
    "# Create vector of 0s (i.e. everyone receievd the loan in the training set) of size equal to the number of rows in the training set \n",
    "zeros=np.zeros(len(original_validation_set))\n",
    "net_val_profit=net_profit(zeros,original_validation_set)\n",
    "print(\"Net profit original:\", net_val_profit)\n",
    "\n",
    "improved_profit=net_val_profit_model-net_val_profit\n",
    "print(\"Improved profit:\", improved_profit)"
   ]
  },
  {
   "cell_type": "code",
   "execution_count": 171,
   "metadata": {},
   "outputs": [
    {
     "name": "stdout",
     "output_type": "stream",
     "text": [
      "[[0.56075419 0.43924581]\n",
      " [0.71710872 0.28289128]\n",
      " [0.65298263 0.34701737]\n",
      " ...\n",
      " [0.75679971 0.24320029]\n",
      " [0.46430621 0.53569379]\n",
      " [0.72360586 0.27639414]]\n"
     ]
    }
   ],
   "source": [
    "# Predict class probabilities for test data\n",
    "probabilities = model.predict_proba(X_val)\n",
    "# probabilities will be a 2D array of shape (n_samples, n_classes)\n",
    "# Each row corresponds to an observation/sample, and each column corresponds to a class\n",
    "print(probabilities)"
   ]
  },
  {
   "cell_type": "markdown",
   "metadata": {},
   "source": [
    "# Test Set"
   ]
  },
  {
   "cell_type": "code",
   "execution_count": 172,
   "metadata": {},
   "outputs": [
    {
     "name": "stdout",
     "output_type": "stream",
     "text": [
      "Test set: \n",
      "Accuracy: 0.7121902591854172\n",
      "Classification Report:\n",
      "              precision    recall  f1-score   support\n",
      "\n",
      "           0       0.91      0.74      0.82     24400\n",
      "           1       0.24      0.55      0.33      3688\n",
      "\n",
      "    accuracy                           0.71     28088\n",
      "   macro avg       0.58      0.64      0.57     28088\n",
      "weighted avg       0.83      0.71      0.75     28088\n",
      "\n",
      "True Negative Rate (non default as non default): 0.737172131147541\n",
      "True Positive Rate (default as default): 0.5469088937093276\n"
     ]
    }
   ],
   "source": [
    "X_test = test_set.drop(\"loan_status\", axis=1)\n",
    "y_test = test_set[\"loan_status\"]\n",
    "\n",
    "# Impute missing values in the validation set\n",
    "imputed_array = imputer.transform(X_test[numerical_columns_without_loan_status])\n",
    "intermediate = pd.DataFrame(imputed_array, columns=numerical_columns_without_loan_status)\n",
    "X_test[numerical_columns_without_loan_status] = intermediate\n",
    "\n",
    "# Predictions\n",
    "y_pred_test = model.predict(X_test)\n",
    "\n",
    "# Confusion matrix\n",
    "conf_matrix = confusion_matrix(y_test, y_pred_test)\n",
    "\n",
    "# Evaluate model\n",
    "print(\"Test set: \")\n",
    "accuracy = accuracy_score(y_test, y_pred_test)\n",
    "print(\"Accuracy:\", accuracy)\n",
    "print(\"Classification Report:\")\n",
    "print(classification_report(y_test, y_pred_test))\n",
    "\n",
    "TN, FP, FN, TP = conf_matrix.ravel()\n",
    "\n",
    "true_negative_rate = TN / (TN + FP)\n",
    "true_positive_rate = TP / (TP + FN)\n",
    "print(\"True Negative Rate (non default as non default):\", true_negative_rate)\n",
    "print(\"True Positive Rate (default as default):\", true_positive_rate)"
   ]
  },
  {
   "cell_type": "markdown",
   "metadata": {},
   "source": [
    "Net profit improvement in the test set"
   ]
  },
  {
   "cell_type": "code",
   "execution_count": 173,
   "metadata": {},
   "outputs": [
    {
     "name": "stdout",
     "output_type": "stream",
     "text": [
      "Net profit: 15856269.904999997\n",
      "Net profit original: 20667631.3575\n",
      "Improved profit: -4811361.452500004\n"
     ]
    }
   ],
   "source": [
    "# net profit of the model\n",
    "net_test_profit_model=net_profit(y_pred_test,original_test_set)\n",
    "print(\"Net profit:\", net_test_profit_model)\n",
    "\n",
    "# Create vector of 0s (i.e. everyone receievd the loan in the training set) of size equal to the number of rows in the training set \n",
    "zeros=np.zeros(len(original_test_set))\n",
    "net_test_profit=net_profit(zeros,original_test_set)\n",
    "print(\"Net profit original:\", net_test_profit)\n",
    "\n",
    "improved_profit=net_test_profit_model-net_test_profit\n",
    "print(\"Improved profit:\", improved_profit)"
   ]
  }
 ],
 "metadata": {
  "kernelspec": {
   "display_name": "RA-position",
   "language": "python",
   "name": "python3"
  },
  "language_info": {
   "codemirror_mode": {
    "name": "ipython",
    "version": 3
   },
   "file_extension": ".py",
   "mimetype": "text/x-python",
   "name": "python",
   "nbconvert_exporter": "python",
   "pygments_lexer": "ipython3",
   "version": "3.12.1"
  }
 },
 "nbformat": 4,
 "nbformat_minor": 2
}
