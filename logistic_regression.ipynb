{
 "cells": [
  {
   "cell_type": "code",
   "execution_count": 1044,
   "metadata": {},
   "outputs": [],
   "source": [
    "import torch\n",
    "import torch.nn as nn\n",
    "import torch.nn.functional as F\n",
    "import pandas as pd\n",
    "import numpy as np\n",
    "import sklearn \n",
    "import matplotlib.pyplot as plt \n",
    "from sklearn.model_selection import train_test_split\n",
    "from sklearn.model_selection import train_test_split\n",
    "from sklearn.linear_model import LogisticRegression\n",
    "from sklearn.metrics import accuracy_score, classification_report\n",
    "from sklearn.ensemble import RandomForestClassifier\n",
    "from sklearn.svm import SVC  # Import the Support Vector Classifier\n",
    "import scipy.sparse as sp\n",
    "import torch.optim as optim\n",
    "from sklearn.metrics import roc_curve, auc\n",
    "import seaborn as sns\n",
    "from sklearn.preprocessing import RobustScaler\n",
    "from sklearn.feature_selection import RFE\n",
    "from sklearn.linear_model import LogisticRegression\n",
    "from sklearn.datasets import make_classification\n",
    "from imblearn.over_sampling import SMOTE\n",
    "from sklearn.experimental import enable_iterative_imputer\n",
    "from sklearn.impute import IterativeImputer\n",
    "%matplotlib inline\n"
   ]
  },
  {
   "cell_type": "markdown",
   "metadata": {},
   "source": [
    "# Overview of the initial steps"
   ]
  },
  {
   "cell_type": "markdown",
   "metadata": {},
   "source": [
    "In the first place, we will import the data from 4 different text files, merge them and then isolate it into three parts. The three parts are the following:\n",
    "\n",
    "1-Years 2007-2014, this will be the training set\n",
    "\n",
    "2-Year 2015, this will be the validation set\n",
    "\n",
    "3-Year 2016, we will test our model with this years data at the end. \n",
    "\n",
    "We will further replace the target variable loan status with 1 for Charged Off and with 0 for Fully Paid. \n",
    "\n",
    "We will later on try to use the imputer to retain all the data. "
   ]
  },
  {
   "cell_type": "code",
   "execution_count": 1045,
   "metadata": {},
   "outputs": [
    {
     "name": "stdout",
     "output_type": "stream",
     "text": [
      "Before dropping na:  (396030, 25)\n",
      "emp_length              18301\n",
      "revol_util                276\n",
      "mort_acc                37795\n",
      "pub_rec_bankruptcies      536\n",
      "dtype: int64\n"
     ]
    }
   ],
   "source": [
    "df1 = pd.read_csv('Lending_Club_modelling_data_part1.txt', delimiter='\\t')\n",
    "df2 = pd.read_csv('Lending_Club_modelling_data_part2.txt', delimiter='\\t', dtype={'column_name': str}, low_memory=False)\n",
    "df3 = pd.read_csv('Lending_Club_modelling_data_part3.txt', delimiter='\\t')\n",
    "df4 = pd.read_csv('Lending_Club_modelling_data_part4.txt', delimiter='\\t')\n",
    "\n",
    "#merged data\n",
    "df = pd.concat([df1, df2, df3, df4], ignore_index=True)\n",
    "print(\"Before dropping na: \",df.shape)\n",
    "\n",
    "# Drop the title column because it is the same information as purpose\n",
    "df = df.drop('title', axis=1)\n",
    "\n",
    "# Fill missing values in 'address' column with the wrong address in mort_acc column\n",
    "df['address'] = df['address'].fillna( '76093 Nicole Parks\\r\\nEast Donaldfurt, IN 70466')\n",
    "\n",
    "# Replace missing values in 'emp_title' column with 'Unknown'\n",
    "df['emp_title'] = df['emp_title'].fillna('Unknown')\n",
    "\n",
    "#print rows with missing values, show only if different from 0\n",
    "print(df.isnull().sum()[df.isnull().sum() > 0])\n",
    "\n",
    "#replace target variable values with 0 and 1\n",
    "df['loan_status'] = df['loan_status'].replace({'Charged Off': 1, 'Fully Paid': 0})\n",
    "\n",
    "# Convert 'issue_d' column to datetime format\n",
    "df['issue_d'] = pd.to_datetime(df['issue_d'], format='%b-%Y')\n",
    "\n",
    "# Replace values in 'emp_length' column with numerical values\n",
    "emp_length_map = {\n",
    "    '< 1 year': 0, '1 year': 1, '2 years': 2, '3 years': 3, '4 years': 4, '5 years': 5,\n",
    "    '6 years': 6, '7 years': 7, '8 years': 8, '9 years': 9, '10+ years': 10\n",
    "}\n",
    "df['emp_length'] = df['emp_length'].replace(emp_length_map)\n",
    "\n",
    "# Correct types of columns\n",
    "df['revol_util'] = df['revol_util'].replace({'f':'NaN'})\n",
    "df['revol_util'] = df['revol_util'].astype(float)\n",
    "df['total_acc'] = df['revol_util'].replace({'INDIVIDUAL':'NaN'})\n",
    "df['total_acc'] = df['total_acc'].astype(float)\n",
    "df['mort_acc'] = df['mort_acc'].replace({'76093 Nicole Parks\\r\\nEast Donaldfurt, IN 70466':'NaN'})\n",
    "df['mort_acc'] = df['mort_acc'].astype(float)"
   ]
  },
  {
   "cell_type": "code",
   "execution_count": 1046,
   "metadata": {},
   "outputs": [],
   "source": [
    "df['term'] = df['term'].str.replace(' months', '').astype(int)"
   ]
  },
  {
   "cell_type": "markdown",
   "metadata": {},
   "source": [
    "# small test to see if both profit methods give the same result"
   ]
  },
  {
   "cell_type": "code",
   "execution_count": 1047,
   "metadata": {},
   "outputs": [],
   "source": [
    "# Display the original and calculated values side by side\n",
    "result_df = pd.DataFrame({\n",
    "    'loan_amnt': df['loan_amnt'],\n",
    "    'term': df['term'],\n",
    "    'interest': df['int_rate'],\n",
    "    'installment': df['installment'],\n",
    "    'interest_calculation': df['loan_amnt'] * (1+df['int_rate'] / 100),\n",
    "    'term_installment_diff': df['term'] * df['installment'] ,\n",
    "})"
   ]
  },
  {
   "cell_type": "code",
   "execution_count": 1048,
   "metadata": {},
   "outputs": [
    {
     "data": {
      "text/html": [
       "<div>\n",
       "<style scoped>\n",
       "    .dataframe tbody tr th:only-of-type {\n",
       "        vertical-align: middle;\n",
       "    }\n",
       "\n",
       "    .dataframe tbody tr th {\n",
       "        vertical-align: top;\n",
       "    }\n",
       "\n",
       "    .dataframe thead th {\n",
       "        text-align: right;\n",
       "    }\n",
       "</style>\n",
       "<table border=\"1\" class=\"dataframe\">\n",
       "  <thead>\n",
       "    <tr style=\"text-align: right;\">\n",
       "      <th></th>\n",
       "      <th>loan_amnt</th>\n",
       "      <th>term</th>\n",
       "      <th>interest</th>\n",
       "      <th>installment</th>\n",
       "      <th>interest_calculation</th>\n",
       "      <th>term_installment_diff</th>\n",
       "    </tr>\n",
       "  </thead>\n",
       "  <tbody>\n",
       "    <tr>\n",
       "      <th>0</th>\n",
       "      <td>10000</td>\n",
       "      <td>36</td>\n",
       "      <td>11.44</td>\n",
       "      <td>329.48</td>\n",
       "      <td>11144.0000</td>\n",
       "      <td>11861.28</td>\n",
       "    </tr>\n",
       "    <tr>\n",
       "      <th>1</th>\n",
       "      <td>8000</td>\n",
       "      <td>36</td>\n",
       "      <td>11.99</td>\n",
       "      <td>265.68</td>\n",
       "      <td>8959.2000</td>\n",
       "      <td>9564.48</td>\n",
       "    </tr>\n",
       "    <tr>\n",
       "      <th>2</th>\n",
       "      <td>15600</td>\n",
       "      <td>36</td>\n",
       "      <td>10.49</td>\n",
       "      <td>506.97</td>\n",
       "      <td>17236.4400</td>\n",
       "      <td>18250.92</td>\n",
       "    </tr>\n",
       "    <tr>\n",
       "      <th>3</th>\n",
       "      <td>7200</td>\n",
       "      <td>36</td>\n",
       "      <td>6.49</td>\n",
       "      <td>220.65</td>\n",
       "      <td>7667.2800</td>\n",
       "      <td>7943.40</td>\n",
       "    </tr>\n",
       "    <tr>\n",
       "      <th>4</th>\n",
       "      <td>24375</td>\n",
       "      <td>60</td>\n",
       "      <td>17.27</td>\n",
       "      <td>609.33</td>\n",
       "      <td>28584.5625</td>\n",
       "      <td>36559.80</td>\n",
       "    </tr>\n",
       "    <tr>\n",
       "      <th>...</th>\n",
       "      <td>...</td>\n",
       "      <td>...</td>\n",
       "      <td>...</td>\n",
       "      <td>...</td>\n",
       "      <td>...</td>\n",
       "      <td>...</td>\n",
       "    </tr>\n",
       "    <tr>\n",
       "      <th>396025</th>\n",
       "      <td>10000</td>\n",
       "      <td>60</td>\n",
       "      <td>10.99</td>\n",
       "      <td>217.38</td>\n",
       "      <td>11099.0000</td>\n",
       "      <td>13042.80</td>\n",
       "    </tr>\n",
       "    <tr>\n",
       "      <th>396026</th>\n",
       "      <td>21000</td>\n",
       "      <td>36</td>\n",
       "      <td>12.29</td>\n",
       "      <td>700.42</td>\n",
       "      <td>23580.9000</td>\n",
       "      <td>25215.12</td>\n",
       "    </tr>\n",
       "    <tr>\n",
       "      <th>396027</th>\n",
       "      <td>5000</td>\n",
       "      <td>36</td>\n",
       "      <td>9.99</td>\n",
       "      <td>161.32</td>\n",
       "      <td>5499.5000</td>\n",
       "      <td>5807.52</td>\n",
       "    </tr>\n",
       "    <tr>\n",
       "      <th>396028</th>\n",
       "      <td>21000</td>\n",
       "      <td>60</td>\n",
       "      <td>15.31</td>\n",
       "      <td>503.02</td>\n",
       "      <td>24215.1000</td>\n",
       "      <td>30181.20</td>\n",
       "    </tr>\n",
       "    <tr>\n",
       "      <th>396029</th>\n",
       "      <td>2000</td>\n",
       "      <td>36</td>\n",
       "      <td>13.61</td>\n",
       "      <td>67.98</td>\n",
       "      <td>2272.2000</td>\n",
       "      <td>2447.28</td>\n",
       "    </tr>\n",
       "  </tbody>\n",
       "</table>\n",
       "<p>396030 rows × 6 columns</p>\n",
       "</div>"
      ],
      "text/plain": [
       "        loan_amnt  term  interest  installment  interest_calculation  \\\n",
       "0           10000    36     11.44       329.48            11144.0000   \n",
       "1            8000    36     11.99       265.68             8959.2000   \n",
       "2           15600    36     10.49       506.97            17236.4400   \n",
       "3            7200    36      6.49       220.65             7667.2800   \n",
       "4           24375    60     17.27       609.33            28584.5625   \n",
       "...           ...   ...       ...          ...                   ...   \n",
       "396025      10000    60     10.99       217.38            11099.0000   \n",
       "396026      21000    36     12.29       700.42            23580.9000   \n",
       "396027       5000    36      9.99       161.32             5499.5000   \n",
       "396028      21000    60     15.31       503.02            24215.1000   \n",
       "396029       2000    36     13.61        67.98             2272.2000   \n",
       "\n",
       "        term_installment_diff  \n",
       "0                    11861.28  \n",
       "1                     9564.48  \n",
       "2                    18250.92  \n",
       "3                     7943.40  \n",
       "4                    36559.80  \n",
       "...                       ...  \n",
       "396025               13042.80  \n",
       "396026               25215.12  \n",
       "396027                5807.52  \n",
       "396028               30181.20  \n",
       "396029                2447.28  \n",
       "\n",
       "[396030 rows x 6 columns]"
      ]
     },
     "execution_count": 1048,
     "metadata": {},
     "output_type": "execute_result"
    }
   ],
   "source": [
    "result_df"
   ]
  },
  {
   "cell_type": "markdown",
   "metadata": {},
   "source": [
    "maybe yearly interest??"
   ]
  },
  {
   "cell_type": "code",
   "execution_count": 1049,
   "metadata": {},
   "outputs": [
    {
     "data": {
      "text/plain": [
       "569.6380273664008"
      ]
     },
     "execution_count": 1049,
     "metadata": {},
     "output_type": "execute_result"
    }
   ],
   "source": [
    "year1=11144.0000-12*329.48 #first interest - first year payments=remaning amount of debt after the first year\n",
    "year2=year1*(1+11.44/100)-12*329.48 #remaining amount of debt after the second year\n",
    "year3=year2*(1+11.44/100)-12*329.48 #remaining amount of debt after the third year (has to be 0 but not)\n",
    "year3"
   ]
  },
  {
   "cell_type": "markdown",
   "metadata": {},
   "source": [
    "# Net Profit Function (original)"
   ]
  },
  {
   "cell_type": "code",
   "execution_count": 1050,
   "metadata": {},
   "outputs": [],
   "source": [
    "# Define the net_profit function \n",
    "def net_profit(y_pred, df):\n",
    "    # Extract relevant columns from DataFrame as NumPy arrays\n",
    "    loan_amnt = df['loan_amnt'].values\n",
    "    int_rate = df['int_rate'].values\n",
    "    loan_status = df['loan_status'].values\n",
    "    \n",
    "    # Who received loans with the model\n",
    "    index = (y_pred == 0)\n",
    "    # Who paid back the loans\n",
    "    index_payback = (loan_status == 0)\n",
    "    # Who defaulted on the loans\n",
    "    index_default = (loan_status == 1)\n",
    "    \n",
    "    # Calculate profit for loans that were paid back\n",
    "    paid_back_loans = index & index_payback\n",
    "    profit_paid_back = loan_amnt[paid_back_loans] * (int_rate[paid_back_loans] / 100)\n",
    "    total_profit = np.sum(profit_paid_back)\n",
    "    \n",
    "    # Calculate loss for loans that defaulted\n",
    "    defaulted_loans = index & index_default\n",
    "    loss_defaulted = loan_amnt[defaulted_loans] * 0.5\n",
    "    total_loss = np.sum(loss_defaulted)\n",
    "    \n",
    "    return total_profit - total_loss\n",
    "    #return total_profit,total_loss,total_profit - total_loss"
   ]
  },
  {
   "cell_type": "markdown",
   "metadata": {},
   "source": [
    "# Net Profit Function 2 (updated)"
   ]
  },
  {
   "cell_type": "code",
   "execution_count": 1051,
   "metadata": {},
   "outputs": [],
   "source": [
    "# Define the net_profit function \n",
    "def net_profit2(y_pred, df):\n",
    "    # Extract relevant columns from DataFrame as NumPy arrays\n",
    "    loan_amnt = df['loan_amnt'].values\n",
    "    installment = df['installment'].values\n",
    "    term = df['term'].replace({-1: 36, 1: 60}).values\n",
    "    loan_status = df['loan_status'].values\n",
    "    \n",
    "    # Who received loans with the model\n",
    "    index = (y_pred == 0)\n",
    "    # Who paid back the loans\n",
    "    index_payback = (loan_status == 0)\n",
    "    # Who defaulted on the loans\n",
    "    index_default = (loan_status == 1)\n",
    "    \n",
    "    # Calculate profit for loans that were paid back\n",
    "    paid_back_loans = index & index_payback\n",
    "    profit_paid_back = installment[paid_back_loans]*term[paid_back_loans]-loan_amnt[paid_back_loans]\n",
    "    total_profit = np.sum(profit_paid_back)\n",
    "    \n",
    "    # Calculate loss for loans that defaulted\n",
    "    defaulted_loans = index & index_default\n",
    "    loss_defaulted = loan_amnt[defaulted_loans] * 0.5 #paid back %50 of the loan before defalting (assumption)\n",
    "    total_loss = np.sum(loss_defaulted)\n",
    "    \n",
    "    return total_profit - total_loss\n",
    "    #return total_profit,total_loss,total_profit - total_loss"
   ]
  },
  {
   "cell_type": "markdown",
   "metadata": {},
   "source": [
    "# Preprocessing"
   ]
  },
  {
   "cell_type": "code",
   "execution_count": 1052,
   "metadata": {},
   "outputs": [],
   "source": [
    "#FOR TERM (36-60 MONTHS) WE ENCODE THEM AS 0-1 AND INCLUDE THEM IN THE NUMERICAL COLUMNS\n",
    "#df['term'] = df['term'].str.replace(' months', '').astype(int)\n",
    "df['term'] = df['term'].replace({ 36: -1, 60: 1})\n",
    "\n",
    "#For verification status we use one hot encoding\n",
    "df = pd.get_dummies(df, columns=['verification_status'], sparse=True)\n",
    "df['verification_status_Not Verified'] = df['verification_status_Not Verified'].astype(int)\n",
    "#df['verification_status_Source Verified'] = df['verification_status_Source Verified'].astype(int) \n",
    "df['verification_status_Verified'] = df['verification_status_Verified'].astype(int)\n",
    "df.drop('verification_status_Source Verified', axis=1, inplace=True) #drop this column as it is redundant (control)\n",
    "\n",
    "#For home ownership we use one hot encoding\n",
    "df = pd.get_dummies(df, columns=['home_ownership'], sparse=True)\n",
    "df['home_ownership_MORTGAGE'] = df['home_ownership_MORTGAGE'].astype(int)\n",
    "df['home_ownership_OWN'] = df['home_ownership_OWN'].astype(int)\n",
    "df['home_ownership_RENT'] = df['home_ownership_RENT'].astype(int)\n",
    "df.drop('home_ownership_ANY', axis=1, inplace=True) #drop this column for control\n",
    "df.drop('home_ownership_NONE', axis=1, inplace=True) #drop this column for control\n",
    "df.drop('home_ownership_OTHER', axis=1, inplace=True) #drop this column for control\n",
    "\n",
    "# #for purpose we use one hot encoding\n",
    "# df = pd.get_dummies(df, columns=['purpose'], sparse=True)\n",
    "# df['purpose_car'] = df['purpose_car'].astype(int)\n",
    "# df['purpose_credit_card'] = df['purpose_credit_card'].astype(int)\n",
    "# df['purpose_debt_consolidation'] = df['purpose_debt_consolidation'].astype(int)\n",
    "# df['purpose_educational'] = df['purpose_educational'].astype(int)\n",
    "# df['purpose_home_improvement'] = df['purpose_home_improvement'].astype(int)\n",
    "# df['purpose_house'] = df['purpose_house'].astype(int)\n",
    "# df['purpose_major_purchase'] = df['purpose_major_purchase'].astype(int)\n",
    "# df['purpose_medical'] = df['purpose_medical'].astype(int)\n",
    "# df['purpose_moving'] = df['purpose_moving'].astype(int)\n",
    "# df['purpose_renewable_energy'] = df['purpose_renewable_energy'].astype(int)\n",
    "# df['purpose_small_business'] = df['purpose_small_business'].astype(int)\n",
    "# df['purpose_vacation'] = df['purpose_vacation'].astype(int)\n",
    "# df['purpose_wedding'] = df['purpose_wedding'].astype(int)\n",
    "# df.drop('purpose_other', axis=1, inplace=True) #drop this column for control\n",
    "\n",
    "\n",
    "#remove rows with pub_rec_bankruptcies > 5\n",
    "#df = df[df['pub_rec_bankruptcies'] <= 5]\n",
    "\n",
    "#remove rows with pub_rec > 10\n",
    "#df = df[df['pub_rec'] <= 10]\n",
    "\n",
    "#remove rows with annual income > 300000\n",
    "#df = df[df['annual_inc'] <= 300000]\n",
    "\n",
    "# Convert 'issue_d' column to datetime format\n",
    "df['issue_d'] = pd.to_datetime(df['issue_d'], format='%b-%Y')\n"
   ]
  },
  {
   "cell_type": "markdown",
   "metadata": {},
   "source": [
    "# -----------------------------------------------------"
   ]
  },
  {
   "cell_type": "markdown",
   "metadata": {},
   "source": [
    "# Feature Engineering "
   ]
  },
  {
   "cell_type": "markdown",
   "metadata": {},
   "source": [
    "Define monthly income/installement ratio as feature and drop annnal income, installment, loan amount, interest rate as all these information is coded in the ratio."
   ]
  },
  {
   "cell_type": "markdown",
   "metadata": {},
   "source": [
    "# Implementation"
   ]
  },
  {
   "cell_type": "markdown",
   "metadata": {},
   "source": [
    "this is step is important for profit calculation provided that the feature engineering is implemented. "
   ]
  },
  {
   "cell_type": "code",
   "execution_count": 1053,
   "metadata": {},
   "outputs": [],
   "source": [
    "df_original=df.copy()\n",
    "# Separate the data into three groups based on the year ranges\n",
    "original_training_set = df_original[df_original['issue_d'].dt.year < 2015]\n",
    "original_validation_set = df_original[df_original['issue_d'].dt.year == 2015]\n",
    "original_test_set = df_original[df_original['issue_d'].dt.year == 2016]\n",
    "\n",
    "# Optionally, you may want to reset the index for each subset\n",
    "original_training_set.reset_index(drop=True, inplace=True)\n",
    "original_validation_set.reset_index(drop=True, inplace=True)\n",
    "original_test_set.reset_index(drop=True, inplace=True)\n",
    "    "
   ]
  },
  {
   "cell_type": "markdown",
   "metadata": {},
   "source": [
    "uncomment if you would like to use the feature enginneering. "
   ]
  },
  {
   "cell_type": "code",
   "execution_count": 1054,
   "metadata": {},
   "outputs": [],
   "source": [
    "# #df['annual_inc']=df['annual_inc']/12 #convert annual income to monthly income\n",
    "# df['installment_over_income'] = df['installment'] / df['annual_inc'] / 12\n",
    "# df['installment_over_income'] = df['installment_over_income'].replace([np.inf, -np.inf], np.nan)\n",
    "# df.drop('installment', axis=1, inplace=True) #drop this column as it is redundant\n",
    "# df.drop('int_rate', axis=1, inplace=True) #redundant\n",
    "# df.drop('loan_amnt', axis=1, inplace=True)\n",
    "\n",
    "# df.drop('annual_inc', axis=1, inplace=True) #drop this column as it is redundant\n",
    "\n"
   ]
  },
  {
   "cell_type": "markdown",
   "metadata": {},
   "source": [
    "# -----------------------------------------------------"
   ]
  },
  {
   "cell_type": "code",
   "execution_count": 1055,
   "metadata": {},
   "outputs": [
    {
     "name": "stdout",
     "output_type": "stream",
     "text": [
      "Number of rows in training set: 273678\n",
      "Number of rows in validation set: 94264\n",
      "Number of rows in test set: 28088\n"
     ]
    }
   ],
   "source": [
    "# Separate the data into three groups based on the year ranges\n",
    "training_set = df[df['issue_d'].dt.year < 2015]\n",
    "validation_set = df[df['issue_d'].dt.year == 2015]\n",
    "test_set = df[df['issue_d'].dt.year == 2016]\n",
    "\n",
    "# Optionally, you may want to reset the index for each subset\n",
    "training_set.reset_index(drop=True, inplace=True)\n",
    "validation_set.reset_index(drop=True, inplace=True)\n",
    "test_set.reset_index(drop=True, inplace=True)\n",
    "\n",
    "# Print the number of rows in each group\n",
    "print(\"Number of rows in training set:\", len(training_set))\n",
    "print(\"Number of rows in validation set:\", len(validation_set))\n",
    "print(\"Number of rows in test set:\", len(test_set))"
   ]
  },
  {
   "cell_type": "markdown",
   "metadata": {},
   "source": [
    "# Next Steps"
   ]
  },
  {
   "cell_type": "markdown",
   "metadata": {},
   "source": [
    "Now we would like to get the numerical columns, impute them, normalize the data and apply feature selection.\n",
    "\n",
    "Then we use SMOTE to oversample the data to overcome the problems arising from the inbalanced nature of the data set. We also try weighted regression. Afterwards we can compare results. One clear advantege of weighted regression is that one can manually arrange the weights thus if the management wants to prioritize giving loans the weight can be decreased and can be increased otherwise. Higher weights lead to stricter decisions which result in less given loans overall. \n",
    "\n",
    "Then we fit the data and come up with our predictions using logistic regression. \n"
   ]
  },
  {
   "cell_type": "code",
   "execution_count": 1056,
   "metadata": {},
   "outputs": [
    {
     "name": "stdout",
     "output_type": "stream",
     "text": [
      "\n",
      "Categorical Columns:\n",
      "['emp_title', 'purpose', 'earliest_cr_line', 'initial_list_status', 'application_type', 'address']\n",
      "\n",
      "Numerical Columns:\n",
      "['loan_amnt', 'term', 'int_rate', 'installment', 'emp_length', 'annual_inc', 'loan_status', 'dti', 'open_acc', 'pub_rec', 'revol_bal', 'revol_util', 'total_acc', 'mort_acc', 'pub_rec_bankruptcies', 'verification_status_Not Verified', 'verification_status_Verified', 'home_ownership_MORTGAGE', 'home_ownership_OWN', 'home_ownership_RENT']\n"
     ]
    }
   ],
   "source": [
    "categorical_columns = df.select_dtypes(include='object').columns.tolist()\n",
    "print(\"\\nCategorical Columns:\")\n",
    "print(categorical_columns)\n",
    "\n",
    "numerical_columns = df.select_dtypes(include='number').columns.tolist()\n",
    "print(\"\\nNumerical Columns:\")\n",
    "print(numerical_columns)"
   ]
  },
  {
   "cell_type": "code",
   "execution_count": 1057,
   "metadata": {},
   "outputs": [
    {
     "name": "stdout",
     "output_type": "stream",
     "text": [
      "Missing values in the training set:\n",
      "Series([], dtype: int64)\n"
     ]
    },
    {
     "name": "stderr",
     "output_type": "stream",
     "text": [
      "/var/folders/l6/8b55cv6j40b20nltsdxdq57h0000gn/T/ipykernel_72497/1054685528.py:10: SettingWithCopyWarning: \n",
      "A value is trying to be set on a copy of a slice from a DataFrame.\n",
      "Try using .loc[row_indexer,col_indexer] = value instead\n",
      "\n",
      "See the caveats in the documentation: https://pandas.pydata.org/pandas-docs/stable/user_guide/indexing.html#returning-a-view-versus-a-copy\n",
      "  training_set[numerical_columns_without_loan_status] = num_training_set\n"
     ]
    }
   ],
   "source": [
    "num_training_set = training_set[numerical_columns].drop('loan_status', axis=1)\n",
    "numerical_columns_without_loan_status= num_training_set.columns\n",
    "imputer = IterativeImputer(random_state=0)\n",
    "imputer.fit(num_training_set)\n",
    "\n",
    "imputed_array = imputer.transform(num_training_set[numerical_columns_without_loan_status])\n",
    "num_training_set = pd.DataFrame(imputed_array, columns=numerical_columns_without_loan_status)\n",
    "\n",
    "# Concatenate imputed features with target variable\n",
    "training_set[numerical_columns_without_loan_status] = num_training_set\n",
    "\n",
    "# Check for missing values in the training set\n",
    "print(\"Missing values in the training set:\")\n",
    "print(training_set.isnull().sum()[training_set.isnull().sum() > 0])"
   ]
  },
  {
   "cell_type": "code",
   "execution_count": 1058,
   "metadata": {},
   "outputs": [
    {
     "name": "stdout",
     "output_type": "stream",
     "text": [
      "Selected Features: ['term', 'int_rate', 'annual_inc', 'dti', 'mort_acc', 'verification_status_Not Verified', 'verification_status_Verified', 'home_ownership_MORTGAGE', 'home_ownership_OWN', 'home_ownership_RENT']\n",
      "TRAINING SET\n",
      "Accuracy: 0.7133419566059384\n",
      "Classification Report:\n",
      "              precision    recall  f1-score   support\n",
      "\n",
      "           0       0.87      0.76      0.81    223166\n",
      "           1       0.32      0.51      0.40     50512\n",
      "\n",
      "    accuracy                           0.71    273678\n",
      "   macro avg       0.60      0.64      0.60    273678\n",
      "weighted avg       0.77      0.71      0.74    273678\n",
      "\n",
      "True Negative Rate (non default as non default): 0.759049317548372\n",
      "True Positive Rate (default as default): 0.511403230915426\n"
     ]
    }
   ],
   "source": [
    "X_train,y_train = training_set[numerical_columns].drop('loan_status', axis=1), training_set['loan_status']\n",
    "\n",
    "# Get column names before scaling\n",
    "feature_names = X_train.columns.tolist()\n",
    "\n",
    "# Initialize scalers\n",
    "robust_scaler = RobustScaler()\n",
    "scaler = sklearn.preprocessing.StandardScaler()\n",
    "\n",
    "# Fit and transform the numerical features\n",
    "X_train_scaled = robust_scaler.fit_transform(X_train)\n",
    "#X= scaler.fit_transform(X)\n",
    "\n",
    "# Apply SMOTE only to the training data\n",
    "smote = SMOTE( sampling_strategy=0.8,random_state=42)\n",
    "X_train_resampled, y_train_resampled = smote.fit_resample(X_train_scaled, y_train)\n",
    "\n",
    "# Initialize logistic regression model\n",
    "model = LogisticRegression(penalty='l2', C=1 , solver='lbfgs', random_state=42)\n",
    "#model = LogisticRegression()\n",
    "\n",
    "# Initialize RFE\n",
    "rfe = RFE(model, n_features_to_select=10)  # Select top 10 features\n",
    "\n",
    "# Fit RFE\n",
    "rfe.fit(X_train_resampled, y_train_resampled)\n",
    "\n",
    "# print the selected features\n",
    "selected_feature_indices = np.where(rfe.support_)[0]\n",
    "selected_features = [ feature_names[i] for i in selected_feature_indices]\n",
    "print(\"Selected Features:\", selected_features)\n",
    "\n",
    "# Get selected features\n",
    "X_resampled_rfe = X_train_resampled[:, rfe.support_]\n",
    "\n",
    "model.fit(X_resampled_rfe, y_train_resampled)\n",
    "y_train_pred = model.predict(X_train_scaled[:, rfe.support_])\n",
    "y_prob = model.predict_proba(X_train_scaled[:, rfe.support_])\n",
    "y_prob_positive_class = y_prob[:,0]\n",
    "\n",
    "# Evaluate the model\n",
    "accuracy = accuracy_score(y_train, y_train_pred)\n",
    "print(\"TRAINING SET\")\n",
    "print(\"Accuracy:\", accuracy)\n",
    "print(\"Classification Report:\")\n",
    "print(classification_report(y_train, y_train_pred))\n",
    "\n",
    "true_positives = np.sum((y_train == 1) & (y_train_pred == 1))\n",
    "false_positives = np.sum((y_train == 0) & (y_train_pred == 1)) \n",
    "false_negatives = np.sum((y_train == 1) & (y_train_pred == 0))\n",
    "true_negatives = np.sum((y_train == 0) & (y_train_pred == 0))   \n",
    "\n",
    "true_negative_rate = true_negatives / (true_negatives + false_positives)\n",
    "true_positive_rate = true_positives / (true_positives + false_negatives)\n",
    "print(\"True Negative Rate (non default as non default):\", true_negative_rate)\n",
    "print(\"True Positive Rate (default as default):\", true_positive_rate)"
   ]
  },
  {
   "cell_type": "markdown",
   "metadata": {},
   "source": [
    "Profit improvement in the training set:"
   ]
  },
  {
   "cell_type": "code",
   "execution_count": 1059,
   "metadata": {},
   "outputs": [
    {
     "name": "stdout",
     "output_type": "stream",
     "text": [
      "Improved profit: 62953930.45999998\n"
     ]
    }
   ],
   "source": [
    "# net profit of the model\n",
    "net_train_profit_model=net_profit(y_train_pred,original_training_set)\n",
    "#print(\"Net profit:\", net_train_profit_model)\n",
    "\n",
    "# Create vector of 0s (i.e. everyone receievd the loan in the training set) of size equal to the number of rows in the training set \n",
    "zeros=np.zeros(len(training_set))\n",
    "net_train_profit=net_profit(zeros,original_training_set)\n",
    "#print(\"Net profit original:\", net_train_profit)\n",
    "\n",
    "improved_profit=net_train_profit_model-net_train_profit\n",
    "print(\"Improved profit:\", improved_profit)\n",
    "#print(net_train_profit_model)\n",
    "#print(net_train_profit)"
   ]
  },
  {
   "cell_type": "code",
   "execution_count": 1060,
   "metadata": {},
   "outputs": [
    {
     "name": "stdout",
     "output_type": "stream",
     "text": [
      "Improved profit: -168335624.45999992\n"
     ]
    }
   ],
   "source": [
    "# net profit of the model\n",
    "net_train_profit_model=net_profit2(y_train_pred,original_training_set)\n",
    "#print(\"Net profit:\", net_train_profit_model)\n",
    "\n",
    "# Create vector of 0s (i.e. everyone receievd the loan in the training set) of size equal to the number of rows in the training set \n",
    "zeros=np.zeros(len(training_set))\n",
    "net_train_profit=net_profit2(zeros,original_training_set)\n",
    "#print(\"Net profit original:\", net_train_profit)\n",
    "\n",
    "#print(net_train_profit_model)\n",
    "#print(net_train_profit)\n",
    "improved_profit=net_train_profit_model-net_train_profit\n",
    "print(\"Improved profit:\", improved_profit)"
   ]
  },
  {
   "cell_type": "markdown",
   "metadata": {},
   "source": [
    "See the weights assigned to features with the logistic regression to see which feature was deemed to be of higher importance. "
   ]
  },
  {
   "cell_type": "code",
   "execution_count": 1061,
   "metadata": {},
   "outputs": [
    {
     "name": "stdout",
     "output_type": "stream",
     "text": [
      "                            Feature    Weight\n",
      "1                          int_rate  0.653640\n",
      "0                              term  0.276437\n",
      "3                               dti  0.256273\n",
      "5  verification_status_Not Verified -0.216561\n",
      "2                        annual_inc -0.165708\n",
      "6      verification_status_Verified -0.142173\n",
      "4                          mort_acc -0.139367\n",
      "9               home_ownership_RENT  0.059573\n",
      "7           home_ownership_MORTGAGE -0.042507\n",
      "8                home_ownership_OWN -0.010140\n"
     ]
    }
   ],
   "source": [
    "# Get the feature weights (coefficients)\n",
    "feature_weights = model.coef_[0]\n",
    "\n",
    "# Create a DataFrame to display feature names and their weights\n",
    "weights_df = pd.DataFrame({'Feature': X_train[selected_features].columns, 'Weight': feature_weights})\n",
    "\n",
    "# Sort the DataFrame by absolute weight value (for easier interpretation)\n",
    "weights_df['Weight_Abs'] = weights_df['Weight'].abs()  # Add column for absolute weight values\n",
    "weights_df = weights_df.sort_values(by='Weight_Abs', ascending=False).drop('Weight_Abs', axis=1)\n",
    "\n",
    "print(weights_df)\n"
   ]
  },
  {
   "cell_type": "code",
   "execution_count": 1062,
   "metadata": {},
   "outputs": [
    {
     "data": {
      "image/png": "[encoded data removed]",
      "text/plain": [
       "<Figure size 1000x600 with 1 Axes>"
      ]
     },
     "metadata": {},
     "output_type": "display_data"
    }
   ],
   "source": [
    "# Plotting the feature weights\n",
    "plt.figure(figsize=(10, 6))  # Adjust figure size as needed\n",
    "bars = plt.barh(weights_df['Feature'], weights_df['Weight'], color='skyblue')\n",
    "plt.xlabel('Weight')\n",
    "plt.ylabel('Feature')\n",
    "plt.title('Feature Weights - Logistic Regression (SMOTE)')\n",
    "\n",
    "# Invert y-axis to display most important features at the top\n",
    "plt.gca().invert_yaxis()\n",
    "\n",
    "# Add value labels on top of each bar\n",
    "for bar in bars:\n",
    "    plt.text(bar.get_width() * 1.02, bar.get_y() + bar.get_height()/2, f'{bar.get_width():.3f}', \n",
    "             ha='center', va='center', color='black', fontsize=10)\n",
    "\n",
    "plt.show()"
   ]
  },
  {
   "cell_type": "markdown",
   "metadata": {},
   "source": [
    "Now we test the model on the validation set.\n",
    "\n",
    "We see that the false positive rate is slightly better than the one of the training set. This shows that the model can be generalized.  "
   ]
  },
  {
   "cell_type": "code",
   "execution_count": 1063,
   "metadata": {},
   "outputs": [
    {
     "name": "stdout",
     "output_type": "stream",
     "text": [
      "Missing values in the training set:\n",
      "Series([], dtype: int64)\n"
     ]
    },
    {
     "name": "stderr",
     "output_type": "stream",
     "text": [
      "/var/folders/l6/8b55cv6j40b20nltsdxdq57h0000gn/T/ipykernel_72497/748049171.py:8: SettingWithCopyWarning: \n",
      "A value is trying to be set on a copy of a slice from a DataFrame.\n",
      "Try using .loc[row_indexer,col_indexer] = value instead\n",
      "\n",
      "See the caveats in the documentation: https://pandas.pydata.org/pandas-docs/stable/user_guide/indexing.html#returning-a-view-versus-a-copy\n",
      "  validation_set[numerical_columns_without_loan_status] = num_validation_set\n"
     ]
    }
   ],
   "source": [
    "num_validation_set = validation_set[numerical_columns].drop('loan_status', axis=1)\n",
    "numerical_columns_without_loan_status= num_validation_set.columns\n",
    "\n",
    "imputed_array = imputer.transform(num_validation_set[numerical_columns_without_loan_status])\n",
    "num_validation_set = pd.DataFrame(imputed_array, columns=numerical_columns_without_loan_status)\n",
    "\n",
    "# Concatenate imputed features with target variable\n",
    "validation_set[numerical_columns_without_loan_status] = num_validation_set\n",
    "\n",
    "# Check for missing values in the training set\n",
    "print(\"Missing values in the training set:\")\n",
    "print(validation_set.isnull().sum()[validation_set.isnull().sum() > 0])"
   ]
  },
  {
   "cell_type": "code",
   "execution_count": 1064,
   "metadata": {},
   "outputs": [
    {
     "name": "stdout",
     "output_type": "stream",
     "text": [
      "VALIDATION SET\n",
      "Accuracy: 0.71763345497751\n",
      "Classification Report:\n",
      "              precision    recall  f1-score   support\n",
      "\n",
      "           0       0.82      0.80      0.81     70791\n",
      "           1       0.44      0.47      0.45     23473\n",
      "\n",
      "    accuracy                           0.72     94264\n",
      "   macro avg       0.63      0.64      0.63     94264\n",
      "weighted avg       0.72      0.72      0.72     94264\n",
      "\n",
      "True Negative Rate (non default as non default): 0.7992965207441624\n",
      "True Positive Rate (default as default): 0.471350061773101\n"
     ]
    }
   ],
   "source": [
    "numerical_columns = validation_set.select_dtypes(include='number').columns.tolist()\n",
    "numerical_validation_set = validation_set[numerical_columns].copy()\n",
    "numerical_validation_set_relevant_features = numerical_validation_set[selected_features]\n",
    "\n",
    "X,y = numerical_validation_set_relevant_features, validation_set['loan_status']\n",
    "X = robust_scaler.fit_transform(X)\n",
    "\n",
    "y_pred = model.predict(X)\n",
    "y_prob = model.predict_proba(X)\n",
    "y_prob_positive_class = y_prob[:,1]\n",
    "\n",
    "# Evaluate the model\n",
    "accuracy = accuracy_score(y, y_pred)\n",
    "print(\"VALIDATION SET\")\n",
    "print(\"Accuracy:\", accuracy)\n",
    "print(\"Classification Report:\")\n",
    "print(classification_report(y, y_pred))\n",
    "\n",
    "# #check if probability versus attribution works as expected\n",
    "# print(\"y_prob_positive_class:\", y_prob_positive_class)\n",
    "# print(y_pred)\n",
    "\n",
    "true_positives = np.sum((y == 1) & (y_pred == 1))\n",
    "false_positives = np.sum((y == 0) & (y_pred == 1)) \n",
    "false_negatives = np.sum((y == 1) & (y_pred == 0))\n",
    "true_negatives = np.sum((y == 0) & (y_pred == 0))   \n",
    "\n",
    "true_negative_rate = true_negatives / (true_negatives + false_positives)\n",
    "true_positive_rate = true_positives / (true_positives + false_negatives)\n",
    "print(\"True Negative Rate (non default as non default):\", true_negative_rate)\n",
    "print(\"True Positive Rate (default as default):\", true_positive_rate)\n"
   ]
  },
  {
   "cell_type": "markdown",
   "metadata": {},
   "source": [
    "Profit impovement in the validation set"
   ]
  },
  {
   "cell_type": "code",
   "execution_count": 1065,
   "metadata": {},
   "outputs": [
    {
     "name": "stdout",
     "output_type": "stream",
     "text": [
      "Net profit: -861672.9474999905\n",
      "Net profit original: -48272015.629999995\n",
      "Improved profit: 47410342.682500005\n"
     ]
    }
   ],
   "source": [
    "# net profit of the model\n",
    "net_val_profit_model=net_profit(y_pred,original_validation_set)\n",
    "print(\"Net profit:\", net_val_profit_model)\n",
    "\n",
    "# Create vector of 0s (i.e. everyone receievd the loan in the training set) of size equal to the number of rows in the training set \n",
    "zeros=np.zeros(len(y_pred))\n",
    "net_val_profit=net_profit(zeros,original_validation_set)\n",
    "print(\"Net profit original:\", net_val_profit)\n",
    "\n",
    "improved_profit=net_val_profit_model-net_val_profit\n",
    "print(\"Improved profit:\", improved_profit)"
   ]
  },
  {
   "cell_type": "markdown",
   "metadata": {},
   "source": [
    "ROC curve and AUC score"
   ]
  },
  {
   "cell_type": "code",
   "execution_count": 1066,
   "metadata": {},
   "outputs": [
    {
     "data": {
      "image/png": "[encoded data removed]",
      "text/plain": [
       "<Figure size 800x600 with 1 Axes>"
      ]
     },
     "metadata": {},
     "output_type": "display_data"
    },
    {
     "name": "stdout",
     "output_type": "stream",
     "text": [
      "AUC Score: 0.7114489454104503\n"
     ]
    }
   ],
   "source": [
    "accuracy = accuracy_score(y, y_pred)\n",
    "classification_rep = classification_report(y, y_pred)\n",
    "\n",
    "# Calculate ROC curve and AUC score\n",
    "fpr, tpr, thresholds = roc_curve(y, y_prob_positive_class)\n",
    "roc_auc = auc(fpr, tpr)\n",
    "\n",
    "# Plot ROC curve\n",
    "plt.figure(figsize=(8, 6))\n",
    "plt.plot(fpr, tpr, color='blue', lw=2, label='ROC curve (area = %0.2f)' % roc_auc)\n",
    "plt.plot([0, 1], [0, 1], color='red', linestyle='--')\n",
    "plt.xlim([0.0, 1.0])\n",
    "plt.ylim([0.0, 1.05])\n",
    "plt.xlabel('False Positive Rate')\n",
    "plt.ylabel('True Positive Rate')\n",
    "plt.title('Receiver Operating Characteristic (ROC) Curve')\n",
    "plt.legend(loc='lower right')\n",
    "plt.show()\n",
    "print(\"AUC Score:\", roc_auc)"
   ]
  },
  {
   "cell_type": "markdown",
   "metadata": {},
   "source": [
    "# TEST SET\n"
   ]
  },
  {
   "cell_type": "code",
   "execution_count": 1067,
   "metadata": {},
   "outputs": [
    {
     "name": "stdout",
     "output_type": "stream",
     "text": [
      "TEST SET\n",
      "Accuracy: 0.7243306750213614\n",
      "Classification Report:\n",
      "              precision    recall  f1-score   support\n",
      "\n",
      "           0       0.91      0.76      0.83     24400\n",
      "           1       0.24      0.50      0.32      3688\n",
      "\n",
      "    accuracy                           0.72     28088\n",
      "   macro avg       0.57      0.63      0.57     28088\n",
      "weighted avg       0.82      0.72      0.76     28088\n",
      "\n",
      "True Negative Rate (non default as non default): 0.7582377049180328\n",
      "True Positive Rate (default as default): 0.5\n"
     ]
    }
   ],
   "source": [
    "numerical_columns = test_set.select_dtypes(include='number').columns.tolist()\n",
    "numerical_test_set = test_set[numerical_columns].copy()\n",
    "numerical_test_set_relevant_features = numerical_test_set[selected_features]\n",
    "\n",
    "X,y = numerical_test_set_relevant_features, test_set['loan_status']\n",
    "X = robust_scaler.fit_transform(X)\n",
    "\n",
    "y_pred = model.predict(X)\n",
    "y_prob = model.predict_proba(X)\n",
    "y_prob_positive_class = y_prob[:,1]\n",
    "\n",
    "# Evaluate the model\n",
    "accuracy = accuracy_score(y, y_pred)\n",
    "print(\"TEST SET\")\n",
    "print(\"Accuracy:\", accuracy)\n",
    "print(\"Classification Report:\")\n",
    "print(classification_report(y, y_pred))\n",
    "\n",
    "true_positives = np.sum((y == 1) & (y_pred == 1))\n",
    "false_positives = np.sum((y == 0) & (y_pred == 1)) \n",
    "false_negatives = np.sum((y == 1) & (y_pred == 0))\n",
    "true_negatives = np.sum((y == 0) & (y_pred == 0))   \n",
    "\n",
    "true_negative_rate = true_negatives / (true_negatives + false_positives)\n",
    "true_positive_rate = true_positives / (true_positives + false_negatives)\n",
    "print(\"True Negative Rate (non default as non default):\", true_negative_rate)\n",
    "print(\"True Positive Rate (default as default):\", true_positive_rate)"
   ]
  },
  {
   "cell_type": "markdown",
   "metadata": {},
   "source": [
    "# Weighted regression"
   ]
  },
  {
   "cell_type": "markdown",
   "metadata": {},
   "source": [
    "The second model we try here is the weighted logistic regression. Since both of these models are quite similar i keep this model in the same file."
   ]
  },
  {
   "cell_type": "code",
   "execution_count": 1068,
   "metadata": {},
   "outputs": [
    {
     "name": "stdout",
     "output_type": "stream",
     "text": [
      "training set\n",
      "Accuracy: 0.6157126257865082\n",
      "Classification Report:\n",
      "              precision    recall  f1-score   support\n",
      "\n",
      "           0       0.89      0.60      0.72    223166\n",
      "           1       0.28      0.69      0.40     50512\n",
      "\n",
      "    accuracy                           0.62    273678\n",
      "   macro avg       0.59      0.64      0.56    273678\n",
      "weighted avg       0.78      0.62      0.66    273678\n",
      "\n",
      "True Negative Rate (non default as non default): 0.59933412795856\n",
      "True Positive Rate (default as default): 0.6880741210009502\n"
     ]
    }
   ],
   "source": [
    "numerical_columns = training_set.select_dtypes(include='number').columns.tolist()\n",
    "numerical_training_set = training_set[selected_features].copy()\n",
    "#numerical_training_set.dropna(axis=1, inplace=True)\n",
    "numerical_training_set \n",
    "X,y = numerical_training_set, training_set['loan_status']\n",
    "\n",
    "# Get column names before scaling\n",
    "feature_names = X.columns.tolist()\n",
    "\n",
    "# Initialize scalers\n",
    "robust_scaler = RobustScaler()\n",
    "scaler = sklearn.preprocessing.StandardScaler()\n",
    "\n",
    "# Fit and transform the numerical features\n",
    "X_scaled = robust_scaler.fit_transform(X)\n",
    "\n",
    "# Fit a weighted logistic regression model\n",
    "weights = {0: 1, 1: 5} # Weight 4 for class 1 (minority class)\n",
    "weighted_lr_model = LogisticRegression(random_state=42, class_weight=weights)\n",
    "weighted_lr_model.fit(X_scaled, y)\n",
    " \n",
    "# Make predictions with the weighted model\n",
    "y_pred_weighted_lr = weighted_lr_model.predict(X_scaled)\n",
    "\n",
    "# Evaluate the model\n",
    "print(\"training set\")\n",
    "accuracy = accuracy_score(y, y_pred_weighted_lr)\n",
    "print(\"Accuracy:\", accuracy)\n",
    "print(\"Classification Report:\")\n",
    "print(classification_report(y, y_pred_weighted_lr))\n",
    "# #confusion matrix\n",
    "# cm = sklearn.metrics.confusion_matrix(y, y_pred_weighted_lr)\n",
    "# print(cm)\n",
    "true_positives = np.sum((y == 1) & (y_pred_weighted_lr == 1))\n",
    "false_positives = np.sum((y == 0) & (y_pred_weighted_lr == 1)) \n",
    "false_negatives = np.sum((y == 1) & (y_pred_weighted_lr == 0))\n",
    "true_negatives = np.sum((y == 0) & (y_pred_weighted_lr == 0))   \n",
    "\n",
    "true_negative_rate = true_negatives / (true_negatives + false_positives)\n",
    "true_positive_rate = true_positives / (true_positives + false_negatives)\n",
    "print(\"True Negative Rate (non default as non default):\", true_negative_rate)\n",
    "print(\"True Positive Rate (default as default):\", true_positive_rate)"
   ]
  },
  {
   "cell_type": "markdown",
   "metadata": {},
   "source": [
    "Profit impovement in the training set"
   ]
  },
  {
   "cell_type": "code",
   "execution_count": 1069,
   "metadata": {},
   "outputs": [
    {
     "name": "stdout",
     "output_type": "stream",
     "text": [
      "Net profit: 86886856.35749999\n",
      "Net profit original: 33980007.84500003\n",
      "Improved profit: 52906848.51249996\n"
     ]
    }
   ],
   "source": [
    "# net profit of the model\n",
    "net_train_profit_model_weigted=net_profit(y_pred_weighted_lr,original_training_set)\n",
    "print(\"Net profit:\", net_train_profit_model_weigted)\n",
    "\n",
    "# Create vector of 0s (i.e. everyone receievd the loan in the training set) of size equal to the number of rows in the training set \n",
    "zeros=np.zeros(len(training_set))\n",
    "net_train_profit=net_profit(zeros,original_training_set)\n",
    "print(\"Net profit original:\", net_train_profit)\n",
    "\n",
    "improved_profit=net_train_profit_model_weigted-net_train_profit\n",
    "print(\"Improved profit:\", improved_profit)"
   ]
  },
  {
   "cell_type": "markdown",
   "metadata": {},
   "source": [
    "See the weights assigned to features with the logistic regression to see which feature was deemed to be of higher importance. "
   ]
  },
  {
   "cell_type": "code",
   "execution_count": 1070,
   "metadata": {},
   "outputs": [
    {
     "name": "stdout",
     "output_type": "stream",
     "text": [
      "                            Feature    Weight\n",
      "1                          int_rate  0.643114\n",
      "0                              term  0.284969\n",
      "3                               dti  0.254560\n",
      "5  verification_status_Not Verified -0.195623\n",
      "6      verification_status_Verified -0.144385\n",
      "2                        annual_inc -0.138134\n",
      "4                          mort_acc -0.094045\n",
      "7           home_ownership_MORTGAGE -0.087034\n",
      "9               home_ownership_RENT  0.069356\n",
      "8                home_ownership_OWN  0.015495\n"
     ]
    }
   ],
   "source": [
    "# Get the feature weights (coefficients)\n",
    "feature_weights = weighted_lr_model.coef_[0]\n",
    "# Create a DataFrame to display feature names and their weights\n",
    "weights_df = pd.DataFrame({'Feature': X[selected_features].columns, 'Weight': feature_weights})\n",
    "\n",
    "# Sort the DataFrame by absolute weight value (for easier interpretation)\n",
    "weights_df['Weight_Abs'] = weights_df['Weight'].abs()  # Add column for absolute weight values\n",
    "weights_df = weights_df.sort_values(by='Weight_Abs', ascending=False).drop('Weight_Abs', axis=1)\n",
    "\n",
    "print(weights_df)\n"
   ]
  },
  {
   "cell_type": "code",
   "execution_count": 1071,
   "metadata": {},
   "outputs": [
    {
     "data": {
      "image/png": "[encoded data removed]",
      "text/plain": [
       "<Figure size 1000x600 with 1 Axes>"
      ]
     },
     "metadata": {},
     "output_type": "display_data"
    }
   ],
   "source": [
    "# Plotting the feature weights\n",
    "plt.figure(figsize=(10, 6))  # Adjust figure size as needed\n",
    "bars = plt.barh(weights_df['Feature'], weights_df['Weight'], color='skyblue')\n",
    "plt.xlabel('Weight')\n",
    "plt.ylabel('Feature')\n",
    "plt.title('Feature Weights - Logistic Regression')\n",
    "\n",
    "# Invert y-axis to display most important features at the top\n",
    "plt.gca().invert_yaxis()\n",
    "\n",
    "# Add value labels on top of each bar\n",
    "for bar in bars:\n",
    "    plt.text(bar.get_width() * 1.02, bar.get_y() + bar.get_height()/2, f'{bar.get_width():.3f}', \n",
    "             ha='center', va='center', color='black', fontsize=10)\n",
    "\n",
    "plt.show()"
   ]
  },
  {
   "cell_type": "markdown",
   "metadata": {},
   "source": [
    "Test the model on the validation set. We set that the results are similar which implies that the method can be generalized. "
   ]
  },
  {
   "cell_type": "code",
   "execution_count": 1072,
   "metadata": {},
   "outputs": [
    {
     "name": "stdout",
     "output_type": "stream",
     "text": [
      "VALIDATION SET\n",
      "Accuracy: 0.6557858779597725\n",
      "Classification Report:\n",
      "              precision    recall  f1-score   support\n",
      "\n",
      "           0       0.85      0.66      0.74     70791\n",
      "           1       0.39      0.66      0.49     23473\n",
      "\n",
      "    accuracy                           0.66     94264\n",
      "   macro avg       0.62      0.66      0.61     94264\n",
      "weighted avg       0.74      0.66      0.68     94264\n",
      "\n",
      "True Negative Rate (non default as non default): 0.6560297212922547\n",
      "True Positive Rate (default as default): 0.6550504835342734\n"
     ]
    }
   ],
   "source": [
    "numerical_columns = validation_set.select_dtypes(include='number').columns.tolist()\n",
    "numerical_validation_set = validation_set[numerical_columns].copy()\n",
    "#numerical_validation_set.dropna(axis=1, inplace=True)\n",
    "#doesnt exist in the training set\n",
    "#numerical_validation_set=numerical_validation_set.drop('pub_rec_bankruptcies', axis=1)\n",
    "#imputed_array = imputer.transform(numerical_validation_set[numerical_columns_without_loan_status])\n",
    "numerical_validation_set = pd.DataFrame(imputed_array, columns=numerical_columns_without_loan_status)\n",
    "\n",
    "numerical_validation_set_relevant_features = numerical_validation_set[selected_features]\n",
    "\n",
    "\n",
    "X,y_val = numerical_validation_set_relevant_features, validation_set['loan_status']\n",
    "X = robust_scaler.fit_transform(X)\n",
    "\n",
    "y_pred_weighted_lr_val = weighted_lr_model.predict(X)\n",
    "y_prob = weighted_lr_model.predict_proba(X)\n",
    "y_prob_positive_class_lr = y_prob[:,1]\n",
    "\n",
    "# Evaluate the model\n",
    "accuracy = accuracy_score(y_val, y_pred_weighted_lr_val)\n",
    "print(\"VALIDATION SET\")\n",
    "print(\"Accuracy:\", accuracy)\n",
    "print(\"Classification Report:\")\n",
    "print(classification_report(y_val, y_pred_weighted_lr_val))\n",
    "\n",
    "\n",
    "true_positives = np.sum((y_val == 1) & (y_pred_weighted_lr_val == 1))\n",
    "false_positives = np.sum((y_val == 0) & (y_pred_weighted_lr_val == 1)) \n",
    "false_negatives = np.sum((y_val == 1) & (y_pred_weighted_lr_val == 0))\n",
    "true_negatives = np.sum((y_val == 0) & (y_pred_weighted_lr_val == 0))   \n",
    "\n",
    "true_negative_rate = true_negatives / (true_negatives + false_positives)\n",
    "true_positive_rate = true_positives / (true_positives + false_negatives)\n",
    "print(\"True Negative Rate (non default as non default):\", true_negative_rate)\n",
    "print(\"True Positive Rate (default as default):\", true_positive_rate)\n"
   ]
  },
  {
   "cell_type": "markdown",
   "metadata": {},
   "source": [
    "Profit improvement in the validation set"
   ]
  },
  {
   "cell_type": "code",
   "execution_count": 1073,
   "metadata": {},
   "outputs": [
    {
     "name": "stdout",
     "output_type": "stream",
     "text": [
      "Net profit: 9212262.737499997\n",
      "Net profit original: -48272015.629999995\n",
      "Improved profit: 57484278.36749999\n"
     ]
    }
   ],
   "source": [
    "# net profit of the model\n",
    "net_val_profit_model_weigted=net_profit(y_pred_weighted_lr_val,original_validation_set)\n",
    "print(\"Net profit:\", net_val_profit_model_weigted)\n",
    "\n",
    "# Create vector of 0s (i.e. everyone receievd the loan in the training set) of size equal to the number of rows in the training set \n",
    "zeros=np.zeros(len(validation_set))\n",
    "net_val_profit=net_profit(zeros,original_validation_set)\n",
    "print(\"Net profit original:\", net_val_profit)\n",
    "\n",
    "improved_profit=net_val_profit_model_weigted-net_val_profit\n",
    "print(\"Improved profit:\", improved_profit)"
   ]
  },
  {
   "cell_type": "code",
   "execution_count": 1074,
   "metadata": {},
   "outputs": [
    {
     "ename": "ValueError",
     "evalue": "Found input variables with inconsistent numbers of samples: [273678, 94264]",
     "output_type": "error",
     "traceback": [
      "\u001b[0;31m---------------------------------------------------------------------------\u001b[0m",
      "\u001b[0;31mValueError\u001b[0m                                Traceback (most recent call last)",
      "Cell \u001b[0;32mIn[1074], line 1\u001b[0m\n\u001b[0;32m----> 1\u001b[0m accuracy \u001b[38;5;241m=\u001b[39m \u001b[43maccuracy_score\u001b[49m\u001b[43m(\u001b[49m\u001b[43my\u001b[49m\u001b[43m,\u001b[49m\u001b[43m \u001b[49m\u001b[43my_pred_weighted_lr_val\u001b[49m\u001b[43m)\u001b[49m\n\u001b[1;32m      2\u001b[0m classification_rep \u001b[38;5;241m=\u001b[39m classification_report(y, y_pred_weighted_lr_val)\n\u001b[1;32m      4\u001b[0m \u001b[38;5;66;03m# Calculate ROC curve and AUC score\u001b[39;00m\n",
      "File \u001b[0;32m~/anaconda3/envs/torch-env/lib/python3.12/site-packages/sklearn/utils/_param_validation.py:211\u001b[0m, in \u001b[0;36mvalidate_params.<locals>.decorator.<locals>.wrapper\u001b[0;34m(*args, **kwargs)\u001b[0m\n\u001b[1;32m    205\u001b[0m \u001b[38;5;28;01mtry\u001b[39;00m:\n\u001b[1;32m    206\u001b[0m     \u001b[38;5;28;01mwith\u001b[39;00m config_context(\n\u001b[1;32m    207\u001b[0m         skip_parameter_validation\u001b[38;5;241m=\u001b[39m(\n\u001b[1;32m    208\u001b[0m             prefer_skip_nested_validation \u001b[38;5;129;01mor\u001b[39;00m global_skip_validation\n\u001b[1;32m    209\u001b[0m         )\n\u001b[1;32m    210\u001b[0m     ):\n\u001b[0;32m--> 211\u001b[0m         \u001b[38;5;28;01mreturn\u001b[39;00m \u001b[43mfunc\u001b[49m\u001b[43m(\u001b[49m\u001b[38;5;241;43m*\u001b[39;49m\u001b[43margs\u001b[49m\u001b[43m,\u001b[49m\u001b[43m \u001b[49m\u001b[38;5;241;43m*\u001b[39;49m\u001b[38;5;241;43m*\u001b[39;49m\u001b[43mkwargs\u001b[49m\u001b[43m)\u001b[49m\n\u001b[1;32m    212\u001b[0m \u001b[38;5;28;01mexcept\u001b[39;00m InvalidParameterError \u001b[38;5;28;01mas\u001b[39;00m e:\n\u001b[1;32m    213\u001b[0m     \u001b[38;5;66;03m# When the function is just a wrapper around an estimator, we allow\u001b[39;00m\n\u001b[1;32m    214\u001b[0m     \u001b[38;5;66;03m# the function to delegate validation to the estimator, but we replace\u001b[39;00m\n\u001b[1;32m    215\u001b[0m     \u001b[38;5;66;03m# the name of the estimator by the name of the function in the error\u001b[39;00m\n\u001b[1;32m    216\u001b[0m     \u001b[38;5;66;03m# message to avoid confusion.\u001b[39;00m\n\u001b[1;32m    217\u001b[0m     msg \u001b[38;5;241m=\u001b[39m re\u001b[38;5;241m.\u001b[39msub(\n\u001b[1;32m    218\u001b[0m         \u001b[38;5;124mr\u001b[39m\u001b[38;5;124m\"\u001b[39m\u001b[38;5;124mparameter of \u001b[39m\u001b[38;5;124m\\\u001b[39m\u001b[38;5;124mw+ must be\u001b[39m\u001b[38;5;124m\"\u001b[39m,\n\u001b[1;32m    219\u001b[0m         \u001b[38;5;124mf\u001b[39m\u001b[38;5;124m\"\u001b[39m\u001b[38;5;124mparameter of \u001b[39m\u001b[38;5;132;01m{\u001b[39;00mfunc\u001b[38;5;241m.\u001b[39m\u001b[38;5;18m__qualname__\u001b[39m\u001b[38;5;132;01m}\u001b[39;00m\u001b[38;5;124m must be\u001b[39m\u001b[38;5;124m\"\u001b[39m,\n\u001b[1;32m    220\u001b[0m         \u001b[38;5;28mstr\u001b[39m(e),\n\u001b[1;32m    221\u001b[0m     )\n",
      "File \u001b[0;32m~/anaconda3/envs/torch-env/lib/python3.12/site-packages/sklearn/metrics/_classification.py:220\u001b[0m, in \u001b[0;36maccuracy_score\u001b[0;34m(y_true, y_pred, normalize, sample_weight)\u001b[0m\n\u001b[1;32m    154\u001b[0m \u001b[38;5;250m\u001b[39m\u001b[38;5;124;03m\"\"\"Accuracy classification score.\u001b[39;00m\n\u001b[1;32m    155\u001b[0m \n\u001b[1;32m    156\u001b[0m \u001b[38;5;124;03mIn multilabel classification, this function computes subset accuracy:\u001b[39;00m\n\u001b[0;32m   (...)\u001b[0m\n\u001b[1;32m    216\u001b[0m \u001b[38;5;124;03m0.5\u001b[39;00m\n\u001b[1;32m    217\u001b[0m \u001b[38;5;124;03m\"\"\"\u001b[39;00m\n\u001b[1;32m    219\u001b[0m \u001b[38;5;66;03m# Compute accuracy for each possible representation\u001b[39;00m\n\u001b[0;32m--> 220\u001b[0m y_type, y_true, y_pred \u001b[38;5;241m=\u001b[39m \u001b[43m_check_targets\u001b[49m\u001b[43m(\u001b[49m\u001b[43my_true\u001b[49m\u001b[43m,\u001b[49m\u001b[43m \u001b[49m\u001b[43my_pred\u001b[49m\u001b[43m)\u001b[49m\n\u001b[1;32m    221\u001b[0m check_consistent_length(y_true, y_pred, sample_weight)\n\u001b[1;32m    222\u001b[0m \u001b[38;5;28;01mif\u001b[39;00m y_type\u001b[38;5;241m.\u001b[39mstartswith(\u001b[38;5;124m\"\u001b[39m\u001b[38;5;124mmultilabel\u001b[39m\u001b[38;5;124m\"\u001b[39m):\n",
      "File \u001b[0;32m~/anaconda3/envs/torch-env/lib/python3.12/site-packages/sklearn/metrics/_classification.py:84\u001b[0m, in \u001b[0;36m_check_targets\u001b[0;34m(y_true, y_pred)\u001b[0m\n\u001b[1;32m     57\u001b[0m \u001b[38;5;28;01mdef\u001b[39;00m \u001b[38;5;21m_check_targets\u001b[39m(y_true, y_pred):\n\u001b[1;32m     58\u001b[0m \u001b[38;5;250m    \u001b[39m\u001b[38;5;124;03m\"\"\"Check that y_true and y_pred belong to the same classification task.\u001b[39;00m\n\u001b[1;32m     59\u001b[0m \n\u001b[1;32m     60\u001b[0m \u001b[38;5;124;03m    This converts multiclass or binary types to a common shape, and raises a\u001b[39;00m\n\u001b[0;32m   (...)\u001b[0m\n\u001b[1;32m     82\u001b[0m \u001b[38;5;124;03m    y_pred : array or indicator matrix\u001b[39;00m\n\u001b[1;32m     83\u001b[0m \u001b[38;5;124;03m    \"\"\"\u001b[39;00m\n\u001b[0;32m---> 84\u001b[0m     \u001b[43mcheck_consistent_length\u001b[49m\u001b[43m(\u001b[49m\u001b[43my_true\u001b[49m\u001b[43m,\u001b[49m\u001b[43m \u001b[49m\u001b[43my_pred\u001b[49m\u001b[43m)\u001b[49m\n\u001b[1;32m     85\u001b[0m     type_true \u001b[38;5;241m=\u001b[39m type_of_target(y_true, input_name\u001b[38;5;241m=\u001b[39m\u001b[38;5;124m\"\u001b[39m\u001b[38;5;124my_true\u001b[39m\u001b[38;5;124m\"\u001b[39m)\n\u001b[1;32m     86\u001b[0m     type_pred \u001b[38;5;241m=\u001b[39m type_of_target(y_pred, input_name\u001b[38;5;241m=\u001b[39m\u001b[38;5;124m\"\u001b[39m\u001b[38;5;124my_pred\u001b[39m\u001b[38;5;124m\"\u001b[39m)\n",
      "File \u001b[0;32m~/anaconda3/envs/torch-env/lib/python3.12/site-packages/sklearn/utils/validation.py:409\u001b[0m, in \u001b[0;36mcheck_consistent_length\u001b[0;34m(*arrays)\u001b[0m\n\u001b[1;32m    407\u001b[0m uniques \u001b[38;5;241m=\u001b[39m np\u001b[38;5;241m.\u001b[39munique(lengths)\n\u001b[1;32m    408\u001b[0m \u001b[38;5;28;01mif\u001b[39;00m \u001b[38;5;28mlen\u001b[39m(uniques) \u001b[38;5;241m>\u001b[39m \u001b[38;5;241m1\u001b[39m:\n\u001b[0;32m--> 409\u001b[0m     \u001b[38;5;28;01mraise\u001b[39;00m \u001b[38;5;167;01mValueError\u001b[39;00m(\n\u001b[1;32m    410\u001b[0m         \u001b[38;5;124m\"\u001b[39m\u001b[38;5;124mFound input variables with inconsistent numbers of samples: \u001b[39m\u001b[38;5;132;01m%r\u001b[39;00m\u001b[38;5;124m\"\u001b[39m\n\u001b[1;32m    411\u001b[0m         \u001b[38;5;241m%\u001b[39m [\u001b[38;5;28mint\u001b[39m(l) \u001b[38;5;28;01mfor\u001b[39;00m l \u001b[38;5;129;01min\u001b[39;00m lengths]\n\u001b[1;32m    412\u001b[0m     )\n",
      "\u001b[0;31mValueError\u001b[0m: Found input variables with inconsistent numbers of samples: [273678, 94264]"
     ]
    }
   ],
   "source": [
    "accuracy = accuracy_score(y, y_pred_weighted_lr_val)\n",
    "classification_rep = classification_report(y, y_pred_weighted_lr_val)\n",
    "\n",
    "# Calculate ROC curve and AUC score\n",
    "fpr, tpr, thresholds = roc_curve(y, y_prob_positive_class_lr)\n",
    "roc_auc = auc(fpr, tpr)\n",
    "\n",
    "# Plot ROC curve\n",
    "plt.figure(figsize=(8, 6))\n",
    "plt.plot(fpr, tpr, color='blue', lw=2, label='ROC curve (area = %0.2f)' % roc_auc)\n",
    "plt.plot([0, 1], [0, 1], color='red', linestyle='--')\n",
    "plt.xlim([0.0, 1.0])\n",
    "plt.ylim([0.0, 1.05])\n",
    "plt.xlabel('False Positive Rate')\n",
    "plt.ylabel('True Positive Rate')\n",
    "plt.title('Receiver Operating Characteristic (ROC) Curve')\n",
    "plt.legend(loc='lower right')\n",
    "plt.show()\n",
    "print(\"AUC Score:\", roc_auc)"
   ]
  },
  {
   "cell_type": "code",
   "execution_count": null,
   "metadata": {},
   "outputs": [
    {
     "name": "stdout",
     "output_type": "stream",
     "text": [
      "TEST SET\n",
      "Accuracy: 0.6894047279977215\n",
      "Classification Report:\n",
      "              precision    recall  f1-score   support\n",
      "\n",
      "           0       0.91      0.71      0.80     24400\n",
      "           1       0.23      0.56      0.32      3688\n",
      "\n",
      "    accuracy                           0.69     28088\n",
      "   macro avg       0.57      0.63      0.56     28088\n",
      "weighted avg       0.82      0.69      0.74     28088\n",
      "\n",
      "True Negative Rate (non default as non default): 0.708811475409836\n",
      "True Positive Rate (default as default): 0.5610086767895879\n"
     ]
    }
   ],
   "source": [
    "numerical_columns = test_set.select_dtypes(include='number').columns.tolist()\n",
    "numerical_test_set = test_set[numerical_columns].copy()\n",
    "#numerical_test_set.dropna(axis=1, inplace=True)\n",
    "#doesnt exist in the training set\n",
    "#numerical_test_set=numerical_test_set.drop('pub_rec_bankruptcies', axis=1)\n",
    "imputed_array = imputer.transform(numerical_test_set[numerical_columns_without_loan_status])\n",
    "numerical_test_set = pd.DataFrame(imputed_array, columns=numerical_columns_without_loan_status)\n",
    "\n",
    "numerical_test_set_relevant_features = numerical_test_set[selected_features]\n",
    "\n",
    "X_test,y_test = numerical_test_set_relevant_features, test_set['loan_status']\n",
    "X_test = robust_scaler.fit_transform(X_test)\n",
    "\n",
    "y_pred_weighted_lr_test = weighted_lr_model.predict(X_test)\n",
    "y_prob = weighted_lr_model.predict_proba(X_test)\n",
    "y_prob_positive_class_lr = y_prob[:,1]\n",
    "\n",
    "# Evaluate the model\n",
    "accuracy = accuracy_score(y_test, y_pred_weighted_lr_test)\n",
    "print(\"TEST SET\")\n",
    "print(\"Accuracy:\", accuracy)\n",
    "print(\"Classification Report:\")\n",
    "print(classification_report(y_test, y_pred_weighted_lr_test))\n",
    "\n",
    "\n",
    "true_positives = np.sum((y_test == 1) & (y_pred_weighted_lr_test == 1))\n",
    "false_positives = np.sum((y_test == 0) & (y_pred_weighted_lr_test == 1)) \n",
    "false_negatives = np.sum((y_test == 1) & (y_pred_weighted_lr_test == 0))\n",
    "true_negatives = np.sum((y_test == 0) & (y_pred_weighted_lr_test == 0))   \n",
    "\n",
    "true_negative_rate = true_negatives / (true_negatives + false_positives)\n",
    "true_positive_rate = true_positives / (true_positives + false_negatives)\n",
    "print(\"True Negative Rate (non default as non default):\", true_negative_rate)\n",
    "print(\"True Positive Rate (default as default):\", true_positive_rate)\n",
    "\n",
    "# #check if probability versus attribution works as expected\n",
    "# print(\"y_prob_positive_class:\", y_prob_positive_class)\n",
    "# print(y_pred_weighted_lr)"
   ]
  },
  {
   "cell_type": "markdown",
   "metadata": {},
   "source": [
    "profit in the test set"
   ]
  },
  {
   "cell_type": "code",
   "execution_count": null,
   "metadata": {},
   "outputs": [
    {
     "name": "stdout",
     "output_type": "stream",
     "text": [
      "Net profit: 14814563.552500002\n",
      "Net profit original: 20667631.3575\n",
      "Improved profit: -5853067.805\n"
     ]
    }
   ],
   "source": [
    "# net profit of the model\n",
    "net_test_profit_model_weigted=net_profit(y_pred_weighted_lr_test,original_test_set)\n",
    "print(\"Net profit:\", net_test_profit_model_weigted)\n",
    "\n",
    "# Create vector of 0s (i.e. everyone receievd the loan in the training set) of size equal to the number of rows in the training set \n",
    "zeros=np.zeros(len(test_set))\n",
    "net_test_profit=net_profit(zeros,original_test_set)\n",
    "print(\"Net profit original:\", net_test_profit)\n",
    "\n",
    "improved_profit=net_test_profit_model_weigted-net_test_profit\n",
    "print(\"Improved profit:\", improved_profit)"
   ]
  },
  {
   "cell_type": "markdown",
   "metadata": {},
   "source": [
    "----------------------------------------------------------------------------------------------------------------------------------"
   ]
  },
  {
   "cell_type": "markdown",
   "metadata": {},
   "source": [
    "Thoughts below."
   ]
  },
  {
   "cell_type": "markdown",
   "metadata": {},
   "source": [
    "IDEA: try applying wieghted logistic regression with different weights and pick the one that minimizes the false positive rate"
   ]
  },
  {
   "cell_type": "markdown",
   "metadata": {},
   "source": [
    "IMPORTANCE SAMPLING??\n",
    "\n",
    "increase the weight of default?? more important in the loss funntion"
   ]
  },
  {
   "cell_type": "markdown",
   "metadata": {},
   "source": [
    " OUTLIERS??\n",
    " - i take care of this with robust scaling i think"
   ]
  },
  {
   "cell_type": "markdown",
   "metadata": {},
   "source": [
    "MAYBE CUSTOM LOSS PENALIZING ONLY FALSE POSITIVES?\n",
    "i could define the loss function as the money loss instead of difference from the actual indices \n",
    "then the goal would be to minimize this"
   ]
  },
  {
   "cell_type": "markdown",
   "metadata": {},
   "source": [
    "XGBOOST?"
   ]
  },
  {
   "cell_type": "markdown",
   "metadata": {},
   "source": [
    "We obtained a very effective tuning for the classical feedforward network by applying a slight variation of the standard back- propagation algorithm that does not propagate errors if they are below a given threshold. "
   ]
  },
  {
   "cell_type": "markdown",
   "metadata": {},
   "source": [
    "NEED TO NORMALIZE FOR NEURAL NETWORKS\n",
    "- try signatures!"
   ]
  }
 ],
 "metadata": {
  "kernelspec": {
   "display_name": "RA-position",
   "language": "python",
   "name": "python3"
  },
  "language_info": {
   "codemirror_mode": {
    "name": "ipython",
    "version": 3
   },
   "file_extension": ".py",
   "mimetype": "text/x-python",
   "name": "python",
   "nbconvert_exporter": "python",
   "pygments_lexer": "ipython3",
   "version": "3.12.1"
  }
 },
 "nbformat": 4,
 "nbformat_minor": 2
}
