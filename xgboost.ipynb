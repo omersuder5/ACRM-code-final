{
 "cells": [
  {
   "cell_type": "code",
   "execution_count": 211,
   "metadata": {},
   "outputs": [],
   "source": [
    "import torch\n",
    "import torch.nn as nn\n",
    "import torch.nn.functional as F\n",
    "import pandas as pd\n",
    "import numpy as np\n",
    "import sklearn \n",
    "import matplotlib.pyplot as plt \n",
    "from sklearn.model_selection import train_test_split\n",
    "from sklearn.model_selection import train_test_split\n",
    "from sklearn.linear_model import LogisticRegression\n",
    "from sklearn.metrics import accuracy_score, classification_report\n",
    "from sklearn.ensemble import RandomForestClassifier\n",
    "from sklearn.svm import SVC  # Import the Support Vector Classifier\n",
    "import scipy.sparse as sp\n",
    "import torch.optim as optim\n",
    "from sklearn.metrics import roc_curve, auc\n",
    "import seaborn as sns\n",
    "from sklearn.preprocessing import RobustScaler\n",
    "from sklearn.feature_selection import RFE\n",
    "from sklearn.linear_model import LogisticRegression\n",
    "from sklearn.datasets import make_classification\n",
    "from imblearn.over_sampling import SMOTE\n",
    "from sklearn.experimental import enable_iterative_imputer\n",
    "from sklearn.impute import IterativeImputer\n",
    "from sklearn.preprocessing import LabelEncoder\n",
    "import xgboost as xgb\n",
    "from sklearn.metrics import confusion_matrix\n"
   ]
  },
  {
   "cell_type": "code",
   "execution_count": 212,
   "metadata": {},
   "outputs": [
    {
     "name": "stdout",
     "output_type": "stream",
     "text": [
      "Before dropping na:  (396030, 25)\n",
      "emp_length              18301\n",
      "revol_util                276\n",
      "mort_acc                37795\n",
      "pub_rec_bankruptcies      536\n",
      "dtype: int64\n"
     ]
    }
   ],
   "source": [
    "df1 = pd.read_csv('Lending_Club_modelling_data_part1.txt', delimiter='\\t')\n",
    "df2 = pd.read_csv('Lending_Club_modelling_data_part2.txt', delimiter='\\t', dtype={'column_name': str}, low_memory=False)\n",
    "df3 = pd.read_csv('Lending_Club_modelling_data_part3.txt', delimiter='\\t')\n",
    "df4 = pd.read_csv('Lending_Club_modelling_data_part4.txt', delimiter='\\t')\n",
    "\n",
    "#merged data\n",
    "df = pd.concat([df1, df2, df3, df4], ignore_index=True)\n",
    "print(\"Before dropping na: \",df.shape)\n",
    "\n",
    "# Drop the title column because it is the same information as purpose\n",
    "df = df.drop('title', axis=1)\n",
    "\n",
    "# Fill missing values in 'address' column with the wrong address in mort_acc column\n",
    "df['address'] = df['address'].fillna( '76093 Nicole Parks\\r\\nEast Donaldfurt, IN 70466')\n",
    "\n",
    "# Drop application_type, pub_rec, address, initial_list_status, pub_rec_bankruptcies columns since they are useless after checking catboost feature importance\n",
    "#df = df.drop(['application_type', 'pub_rec', 'address', 'initial_list_status', 'pub_rec_bankruptcies'], axis=1)\n",
    "\n",
    "# Replace missing values in 'emp_title' column with 'Unknown'\n",
    "df['emp_title'] = df['emp_title'].fillna('Unknown')\n",
    "\n",
    "#print rows with missing values, show only if different from 0\n",
    "print(df.isnull().sum()[df.isnull().sum() > 0])\n",
    "\n",
    "#replace target variable values with 0 and 1\n",
    "df['loan_status'] = df['loan_status'].replace({'Charged Off': 1, 'Fully Paid': 0})\n",
    "\n",
    "# Convert 'issue_d' column to datetime format\n",
    "df['issue_d'] = pd.to_datetime(df['issue_d'], format='%b-%Y')\n",
    "\n",
    "# Replace values in 'emp_length' column with numerical values\n",
    "emp_length_map = {\n",
    "    '< 1 year': 0, '1 year': 1, '2 years': 2, '3 years': 3, '4 years': 4, '5 years': 5,\n",
    "    '6 years': 6, '7 years': 7, '8 years': 8, '9 years': 9, '10+ years': 10\n",
    "}\n",
    "df['emp_length'] = df['emp_length'].replace(emp_length_map)\n",
    "\n",
    "# Correct types of columns\n",
    "df['revol_util'] = df['revol_util'].replace({'f':'NaN'})\n",
    "df['revol_util'] = df['revol_util'].astype(float)\n",
    "df['total_acc'] = df['revol_util'].replace({'INDIVIDUAL':'NaN'})\n",
    "df['total_acc'] = df['total_acc'].astype(float)\n",
    "df['mort_acc'] = df['mort_acc'].replace({'76093 Nicole Parks\\r\\nEast Donaldfurt, IN 70466':'NaN'})\n",
    "df['mort_acc'] = df['mort_acc'].astype(float)\n"
   ]
  },
  {
   "cell_type": "markdown",
   "metadata": {},
   "source": [
    "# Net Profit Function"
   ]
  },
  {
   "cell_type": "code",
   "execution_count": 213,
   "metadata": {},
   "outputs": [],
   "source": [
    "# Define the net_profit function \n",
    "def net_profit(y_pred, df):\n",
    "    # Extract relevant columns from DataFrame as NumPy arrays\n",
    "    loan_amnt = df['loan_amnt'].values\n",
    "    int_rate = df['int_rate'].values\n",
    "    loan_status = df['loan_status'].values\n",
    "    \n",
    "    # Who received loans with the model\n",
    "    index = (y_pred == 0)\n",
    "    # Who paid back the loans\n",
    "    index_payback = (loan_status == 0)\n",
    "    # Who defaulted on the loans\n",
    "    index_default = (loan_status == 1)\n",
    "    \n",
    "    # Calculate profit for loans that were paid back\n",
    "    paid_back_loans = index & index_payback\n",
    "    profit_paid_back = loan_amnt[paid_back_loans] * (int_rate[paid_back_loans] / 100)\n",
    "    total_profit = np.sum(profit_paid_back)\n",
    "    \n",
    "    # Calculate loss for loans that defaulted\n",
    "    defaulted_loans = index & index_default\n",
    "    loss_defaulted = loan_amnt[defaulted_loans] * 0.5\n",
    "    total_loss = np.sum(loss_defaulted)\n",
    "    \n",
    "    return total_profit - total_loss"
   ]
  },
  {
   "cell_type": "markdown",
   "metadata": {},
   "source": [
    "# second net profit function with installments"
   ]
  },
  {
   "cell_type": "code",
   "execution_count": 214,
   "metadata": {},
   "outputs": [],
   "source": [
    "# Define the net_profit function \n",
    "def net_profit2(y_pred, df):\n",
    "    # Extract relevant columns from DataFrame as NumPy arrays\n",
    "    loan_amnt = df['loan_amnt'].values\n",
    "    installment = df['installment'].values\n",
    "    term = df['term'].replace({-1: 36, 1: 60}).values\n",
    "    loan_status = df['loan_status'].values\n",
    "    \n",
    "    # Who received loans with the model\n",
    "    index = (y_pred == 0)\n",
    "    # Who paid back the loans\n",
    "    index_payback = (loan_status == 0)\n",
    "    # Who defaulted on the loans\n",
    "    index_default = (loan_status == 1)\n",
    "    \n",
    "    # Calculate profit for loans that were paid back\n",
    "    paid_back_loans = index & index_payback\n",
    "    profit_paid_back = installment[paid_back_loans]*term[paid_back_loans]-loan_amnt[paid_back_loans]\n",
    "    total_profit = np.sum(profit_paid_back)\n",
    "    \n",
    "    # Calculate loss for loans that defaulted\n",
    "    defaulted_loans = index & index_default\n",
    "    loss_defaulted = loan_amnt[defaulted_loans] * 0.5 #paid back %50 of the loan before defalting (assumption)\n",
    "    total_loss = np.sum(loss_defaulted)\n",
    "    \n",
    "    return total_profit - total_loss\n",
    "    #return total_profit,total_loss,total_profit - total_loss"
   ]
  },
  {
   "cell_type": "markdown",
   "metadata": {},
   "source": [
    "# Preprocessing"
   ]
  },
  {
   "cell_type": "code",
   "execution_count": 215,
   "metadata": {},
   "outputs": [],
   "source": [
    "# Convert 'issue_d' column to datetime format\n",
    "df['issue_d'] = pd.to_datetime(df['issue_d'], format='%b-%Y')"
   ]
  },
  {
   "cell_type": "markdown",
   "metadata": {},
   "source": [
    "# -----------------------------------------------------"
   ]
  },
  {
   "cell_type": "markdown",
   "metadata": {},
   "source": [
    "# Feature Engineering"
   ]
  },
  {
   "cell_type": "code",
   "execution_count": 216,
   "metadata": {},
   "outputs": [],
   "source": [
    "df_original=df.copy()\n",
    "# Separate the data into three groups based on the year ranges\n",
    "original_training_set = df_original[df_original['issue_d'].dt.year < 2015]\n",
    "original_validation_set = df_original[df_original['issue_d'].dt.year == 2015]\n",
    "original_test_set = df_original[df_original['issue_d'].dt.year == 2016]\n",
    "\n",
    "# Optionally, you may want to reset the index for each subset\n",
    "original_training_set.reset_index(drop=True, inplace=True)\n",
    "original_validation_set.reset_index(drop=True, inplace=True)\n",
    "original_test_set.reset_index(drop=True, inplace=True)"
   ]
  },
  {
   "cell_type": "code",
   "execution_count": 217,
   "metadata": {},
   "outputs": [],
   "source": [
    "# df['annual_inc']=df['annual_inc']/12 #convert annual income to monthly income\n",
    "# df['installment_over_income'] = df['installment'] / df['annual_inc']\n",
    "# df['installment_over_income'] = df['installment_over_income'].replace([np.inf, -np.inf], np.nan)\n",
    "# df.drop('installment', axis=1, inplace=True) #drop this column as it is redundant\n",
    "# df.drop('int_rate', axis=1, inplace=True) #redundant\n",
    "# df.drop('loan_amnt', axis=1, inplace=True)\n",
    "# df.drop('annual_inc', axis=1, inplace=True) #drop this column as it is redundant\n",
    "\n"
   ]
  },
  {
   "cell_type": "markdown",
   "metadata": {},
   "source": [
    "# -----------------------------------------------------"
   ]
  },
  {
   "cell_type": "code",
   "execution_count": 218,
   "metadata": {},
   "outputs": [
    {
     "name": "stdout",
     "output_type": "stream",
     "text": [
      "Number of rows in training set: 273678\n",
      "Number of rows in validation set: 94264\n",
      "Number of rows in test set: 28088\n"
     ]
    }
   ],
   "source": [
    "\n",
    "\n",
    "# Convert term to float\n",
    "df['term'] = df['term'].str.replace(' months', '').astype(float)\n",
    "\n",
    "# Separate the data into three groups based on the year ranges\n",
    "training_set = df[df['issue_d'].dt.year < 2015]\n",
    "validation_set = df[df['issue_d'].dt.year == 2015]\n",
    "test_set = df[df['issue_d'].dt.year == 2016]\n",
    "\n",
    "# Optionally, you may want to reset the index for each subset\n",
    "training_set.reset_index(drop=True, inplace=True)\n",
    "validation_set.reset_index(drop=True, inplace=True)\n",
    "test_set.reset_index(drop=True, inplace=True)\n",
    "\n",
    "# Print the number of rows in each group\n",
    "print(\"Number of rows in training set:\", len(training_set))\n",
    "print(\"Number of rows in validation set:\", len(validation_set))\n",
    "print(\"Number of rows in test set:\", len(test_set))"
   ]
  },
  {
   "cell_type": "code",
   "execution_count": 219,
   "metadata": {},
   "outputs": [
    {
     "name": "stdout",
     "output_type": "stream",
     "text": [
      "['emp_title', 'home_ownership', 'verification_status', 'purpose', 'earliest_cr_line', 'initial_list_status', 'application_type', 'address']\n",
      "['loan_amnt', 'term', 'int_rate', 'installment', 'emp_length', 'annual_inc', 'loan_status', 'dti', 'open_acc', 'pub_rec', 'revol_bal', 'revol_util', 'total_acc', 'mort_acc', 'pub_rec_bankruptcies']\n",
      "23\n"
     ]
    }
   ],
   "source": [
    "categorical_columns = training_set.select_dtypes(include='object').columns.tolist()\n",
    "print(categorical_columns)\n",
    "numerical_columns = training_set.select_dtypes(include=['int64', 'float64']).columns.tolist()\n",
    "print(numerical_columns)\n",
    "print(len(numerical_columns)+len(categorical_columns))"
   ]
  },
  {
   "cell_type": "code",
   "execution_count": 220,
   "metadata": {},
   "outputs": [
    {
     "name": "stdout",
     "output_type": "stream",
     "text": [
      "Missing values in the training set:\n",
      "Series([], dtype: int64)\n"
     ]
    },
    {
     "name": "stderr",
     "output_type": "stream",
     "text": [
      "/var/folders/l6/8b55cv6j40b20nltsdxdq57h0000gn/T/ipykernel_72555/1054685528.py:10: SettingWithCopyWarning: \n",
      "A value is trying to be set on a copy of a slice from a DataFrame.\n",
      "Try using .loc[row_indexer,col_indexer] = value instead\n",
      "\n",
      "See the caveats in the documentation: https://pandas.pydata.org/pandas-docs/stable/user_guide/indexing.html#returning-a-view-versus-a-copy\n",
      "  training_set[numerical_columns_without_loan_status] = num_training_set\n"
     ]
    }
   ],
   "source": [
    "num_training_set = training_set[numerical_columns].drop('loan_status', axis=1)\n",
    "numerical_columns_without_loan_status= num_training_set.columns\n",
    "imputer = IterativeImputer(random_state=0)\n",
    "imputer.fit(num_training_set)\n",
    "\n",
    "imputed_array = imputer.transform(num_training_set[numerical_columns_without_loan_status])\n",
    "num_training_set = pd.DataFrame(imputed_array, columns=numerical_columns_without_loan_status)\n",
    "\n",
    "# Concatenate imputed features with target variable\n",
    "training_set[numerical_columns_without_loan_status] = num_training_set\n",
    "\n",
    "# Check for missing values in the training set\n",
    "print(\"Missing values in the training set:\")\n",
    "print(training_set.isnull().sum()[training_set.isnull().sum() > 0])"
   ]
  },
  {
   "cell_type": "markdown",
   "metadata": {},
   "source": [
    "For xgboost, I use label encoding to encode the categorical columns."
   ]
  },
  {
   "cell_type": "code",
   "execution_count": 221,
   "metadata": {},
   "outputs": [],
   "source": [
    "# Create a label encoder instance\n",
    "label_encoder = LabelEncoder()\n",
    "\n",
    "# # Encode categorical columns using LabelEncoder\n",
    "# label_encoders = {}\n",
    "# for col in categorical_columns:\n",
    "#     label_encoders[col] = LabelEncoder()\n",
    "#     training_set.loc[:, col] = label_encoders[col].fit_transform(training_set[col])"
   ]
  },
  {
   "cell_type": "markdown",
   "metadata": {},
   "source": [
    "It might be sufficient to tell the encoder which ones are categorical otherwise. "
   ]
  },
  {
   "cell_type": "code",
   "execution_count": 222,
   "metadata": {},
   "outputs": [
    {
     "name": "stderr",
     "output_type": "stream",
     "text": [
      "/var/folders/l6/8b55cv6j40b20nltsdxdq57h0000gn/T/ipykernel_72555/4104939919.py:2: SettingWithCopyWarning: \n",
      "A value is trying to be set on a copy of a slice from a DataFrame.\n",
      "Try using .loc[row_indexer,col_indexer] = value instead\n",
      "\n",
      "See the caveats in the documentation: https://pandas.pydata.org/pandas-docs/stable/user_guide/indexing.html#returning-a-view-versus-a-copy\n",
      "  training_set[categorical_columns] = training_set.loc[:, categorical_columns].astype('category')\n",
      "/var/folders/l6/8b55cv6j40b20nltsdxdq57h0000gn/T/ipykernel_72555/4104939919.py:5: SettingWithCopyWarning: \n",
      "A value is trying to be set on a copy of a slice from a DataFrame.\n",
      "Try using .loc[row_indexer,col_indexer] = value instead\n",
      "\n",
      "See the caveats in the documentation: https://pandas.pydata.org/pandas-docs/stable/user_guide/indexing.html#returning-a-view-versus-a-copy\n",
      "  training_set['issue_d'] = training_set['issue_d'].astype('category')\n"
     ]
    }
   ],
   "source": [
    "\n",
    "# Convert categorical columns to category type\n",
    "training_set[categorical_columns] = training_set.loc[:, categorical_columns].astype('category')\n",
    "\n",
    "# Convert 'issue_d' column to category type\n",
    "training_set['issue_d'] = training_set['issue_d'].astype('category')\n"
   ]
  },
  {
   "cell_type": "markdown",
   "metadata": {},
   "source": [
    "# Model"
   ]
  },
  {
   "cell_type": "code",
   "execution_count": 223,
   "metadata": {},
   "outputs": [],
   "source": [
    "# Supported tree methods are `approx` and `hist`.\n",
    "clf = xgb.XGBClassifier(tree_method=\"hist\", \n",
    "                        enable_categorical=True, \n",
    "                        objective=\"binary:logistic\",\n",
    "                        device=\"cuda\", \n",
    "                        scale_pos_weight=4, \n",
    "                        n_estimators=300, \n",
    "                        max_depth=5, \n",
    "                        learning_rate=0.1)\n",
    "\n",
    "# Fit the model\n",
    "X_train_xgb = training_set.drop('loan_status', axis=1)\n",
    "y_train_xgb = training_set['loan_status']\n",
    "\n",
    "clf.fit(X_train_xgb, y_train_xgb)\n",
    "\n",
    "# Must use JSON/UBJSON for serialization, otherwise the information is lost.\n",
    "clf.save_model(\"xgboost-model.json\")"
   ]
  },
  {
   "cell_type": "code",
   "execution_count": 224,
   "metadata": {},
   "outputs": [
    {
     "name": "stdout",
     "output_type": "stream",
     "text": [
      "Training set: \n",
      "Accuracy: 0.7750933578877367\n",
      "Classification Report:\n",
      "              precision    recall  f1-score   support\n",
      "\n",
      "           0       0.93      0.78      0.85    223166\n",
      "           1       0.44      0.74      0.55     50512\n",
      "\n",
      "    accuracy                           0.78    273678\n",
      "   macro avg       0.68      0.76      0.70    273678\n",
      "weighted avg       0.84      0.78      0.79    273678\n",
      "\n",
      "True Negative Rate (non default as non default): 0.7832868806180153\n",
      "True Positive Rate (default as default): 0.7388937282229965\n"
     ]
    }
   ],
   "source": [
    "y_pred_train_xgb = clf.predict(X_train_xgb)\n",
    "\n",
    "# Confusion matrix\n",
    "conf_matrix = confusion_matrix(y_train_xgb, y_pred_train_xgb)\n",
    "\n",
    "# Evaluate model\n",
    "print(\"Training set: \")\n",
    "accuracy = accuracy_score(y_train_xgb, y_pred_train_xgb)\n",
    "print(\"Accuracy:\", accuracy)\n",
    "print(\"Classification Report:\")\n",
    "print(classification_report(y_train_xgb, y_pred_train_xgb))\n",
    "\n",
    "TN, FP, FN, TP = conf_matrix.ravel()\n",
    "\n",
    "true_negative_rate = TN / (TN + FP)\n",
    "true_positive_rate = TP / (TP + FN)\n",
    "print(\"True Negative Rate (non default as non default):\", true_negative_rate)\n",
    "print(\"True Positive Rate (default as default):\", true_positive_rate)\n",
    "\n",
    "# true_negatives = np.sum((y_train_xgb == 1) & (y_pred_train_xgb == 1))\n",
    "# false_negatives = np.sum((y_train_xgb == 0) & (y_pred_train_xgb == 1))\n",
    "# true_positives = np.sum((y_train_xgb == 0) & (y_pred_train_xgb == 0))   \n",
    "# false_positives = np.sum((y_train_xgb == 1) & (y_pred_train_xgb == 0)) #important!\n",
    "\n",
    "# true_positive_rate = true_positives / (true_positives + false_negatives)\n",
    "# false_positive_rate = false_positives / (false_positives + true_negatives)\n",
    "# print(\"True Positive Rate:\", true_positive_rate)\n",
    "# print(\"False Positive Rate:\", false_positive_rate)\n",
    "# print(f\"Confusion Matrix:\\n{conf_matrix}\")"
   ]
  },
  {
   "cell_type": "markdown",
   "metadata": {},
   "source": [
    "Profit improvement in the training set"
   ]
  },
  {
   "cell_type": "code",
   "execution_count": 225,
   "metadata": {},
   "outputs": [
    {
     "name": "stdout",
     "output_type": "stream",
     "text": [
      "Net profit: 190244307.39749998\n",
      "Net profit original: 33980007.84500003\n",
      "Improved profit: 156264299.55249995\n"
     ]
    }
   ],
   "source": [
    "# net profit of the model\n",
    "net_train_profit_model=net_profit(y_pred_train_xgb,original_training_set)\n",
    "print(\"Net profit:\", net_train_profit_model)\n",
    "\n",
    "# Create vector of 0s (i.e. everyone receievd the loan in the training set) of size equal to the number of rows in the training set \n",
    "zeros=np.zeros(len(original_training_set))\n",
    "net_train_profit=net_profit(zeros,original_training_set)\n",
    "print(\"Net profit original:\", net_train_profit)\n",
    "\n",
    "improved_profit=net_train_profit_model-net_train_profit\n",
    "print(\"Improved profit:\", improved_profit)"
   ]
  },
  {
   "cell_type": "markdown",
   "metadata": {},
   "source": [
    "feature importance"
   ]
  },
  {
   "cell_type": "code",
   "execution_count": 226,
   "metadata": {},
   "outputs": [
    {
     "name": "stdout",
     "output_type": "stream",
     "text": [
      "Feature importances:\n",
      "1.  term: 0.27806100249290466\n",
      "2.  int_rate: 0.21050836145877838\n",
      "3.  emp_title: 0.11834815889596939\n",
      "4.  annual_inc: 0.06784633547067642\n",
      "5.  address: 0.05829198658466339\n",
      "6.  earliest_cr_line: 0.05480900779366493\n",
      "7.  dti: 0.03612463176250458\n",
      "8.  issue_d: 0.035331230610609055\n",
      "9.  home_ownership: 0.026359738782048225\n",
      "10.  mort_acc: 0.02452663704752922\n",
      "11.  loan_amnt: 0.018204927444458008\n",
      "12.  purpose: 0.015084885060787201\n",
      "13.  verification_status: 0.012088652700185776\n",
      "14.  installment: 0.011111084371805191\n",
      "15.  open_acc: 0.008140536025166512\n",
      "16.  revol_util: 0.005750676151365042\n",
      "17.  revol_bal: 0.005515983793884516\n",
      "18.  pub_rec_bankruptcies: 0.0054958355613052845\n",
      "19.  emp_length: 0.003232738468796015\n",
      "20.  initial_list_status: 0.002845288021489978\n",
      "21.  pub_rec: 0.0023222966119647026\n",
      "22.  total_acc: 0.0\n",
      "23.  application_type: 0.0\n"
     ]
    }
   ],
   "source": [
    "# Get feature importances\n",
    "feature_importances = clf.feature_importances_\n",
    "\n",
    "#decreasing order\n",
    "indices = np.argsort(feature_importances)[::-1]\n",
    "# Print the feature ranking\n",
    "print(\"Feature importances:\")\n",
    "for f in range(X_train_xgb.shape[1]):\n",
    "    print(f\"{f + 1}.  {X_train_xgb.columns[indices[f]]}: {feature_importances[indices[f]]}\")\n",
    "\n"
   ]
  },
  {
   "cell_type": "code",
   "execution_count": 227,
   "metadata": {},
   "outputs": [
    {
     "data": {
      "image/png": "[encoded data removed]",
      "text/plain": [
       "<Figure size 1000x600 with 1 Axes>"
      ]
     },
     "metadata": {},
     "output_type": "display_data"
    }
   ],
   "source": [
    "# Extract the names and importance values of the top ten features\n",
    "top_features = [X_train_xgb.columns[idx] for idx in indices[:10]]\n",
    "top_importances = feature_importances[indices[:10]]\n",
    "\n",
    "# Plotting the top ten features and their importances\n",
    "plt.figure(figsize=(10, 6))  # Adjust figure size as needed\n",
    "plt.barh(top_features, top_importances, color='skyblue')\n",
    "plt.xlabel('Importance')\n",
    "plt.ylabel('Feature')\n",
    "plt.title('Top Ten Feature Importances (XGBoost)')\n",
    "plt.gca().invert_yaxis()  # Invert y-axis to display highest importance at the top\n",
    "plt.show()"
   ]
  },
  {
   "cell_type": "markdown",
   "metadata": {},
   "source": [
    "validation set"
   ]
  },
  {
   "cell_type": "code",
   "execution_count": 228,
   "metadata": {},
   "outputs": [
    {
     "name": "stderr",
     "output_type": "stream",
     "text": [
      "/var/folders/l6/8b55cv6j40b20nltsdxdq57h0000gn/T/ipykernel_72555/1986969542.py:2: SettingWithCopyWarning: \n",
      "A value is trying to be set on a copy of a slice from a DataFrame.\n",
      "Try using .loc[row_indexer,col_indexer] = value instead\n",
      "\n",
      "See the caveats in the documentation: https://pandas.pydata.org/pandas-docs/stable/user_guide/indexing.html#returning-a-view-versus-a-copy\n",
      "  validation_set[categorical_columns] = validation_set.loc[:, categorical_columns].astype('category')\n",
      "/var/folders/l6/8b55cv6j40b20nltsdxdq57h0000gn/T/ipykernel_72555/1986969542.py:5: SettingWithCopyWarning: \n",
      "A value is trying to be set on a copy of a slice from a DataFrame.\n",
      "Try using .loc[row_indexer,col_indexer] = value instead\n",
      "\n",
      "See the caveats in the documentation: https://pandas.pydata.org/pandas-docs/stable/user_guide/indexing.html#returning-a-view-versus-a-copy\n",
      "  validation_set['issue_d'] = validation_set.loc[:,'issue_d'].astype('category')\n"
     ]
    }
   ],
   "source": [
    "# Convert categorical columns to category type\n",
    "validation_set[categorical_columns] = validation_set.loc[:, categorical_columns].astype('category')\n",
    "\n",
    "# Convert 'issue_d' column to category type\n",
    "validation_set['issue_d'] = validation_set.loc[:,'issue_d'].astype('category')"
   ]
  },
  {
   "cell_type": "code",
   "execution_count": 229,
   "metadata": {},
   "outputs": [
    {
     "name": "stdout",
     "output_type": "stream",
     "text": [
      "Validation set: \n",
      "Accuracy: 0.6742552830348808\n",
      "Classification Report:\n",
      "              precision    recall  f1-score   support\n",
      "\n",
      "           0       0.83      0.71      0.77     70791\n",
      "           1       0.39      0.57      0.46     23473\n",
      "\n",
      "    accuracy                           0.67     94264\n",
      "   macro avg       0.61      0.64      0.62     94264\n",
      "weighted avg       0.72      0.67      0.69     94264\n",
      "\n",
      "True Negative Rate (non default as non default): 0.7101043918012176\n",
      "True Positive Rate (default as default): 0.566139820218975\n"
     ]
    }
   ],
   "source": [
    "X_val = validation_set.drop(\"loan_status\", axis=1)\n",
    "y_val = validation_set[\"loan_status\"]\n",
    "\n",
    "# Impute missing values in the validation set\n",
    "imputed_array = imputer.transform(X_val[numerical_columns_without_loan_status])\n",
    "intermediate = pd.DataFrame(imputed_array, columns=numerical_columns_without_loan_status)\n",
    "X_val[numerical_columns_without_loan_status] = intermediate\n",
    "\n",
    "# Predictions\n",
    "y_pred_val = clf.predict(X_val)\n",
    "\n",
    "# Confusion matrix\n",
    "conf_matrix = confusion_matrix(y_val, y_pred_val)\n",
    "\n",
    "# Evaluate model\n",
    "print(\"Validation set: \")\n",
    "accuracy = accuracy_score(y_val, y_pred_val)\n",
    "print(\"Accuracy:\", accuracy)\n",
    "print(\"Classification Report:\")\n",
    "print(classification_report(y_val, y_pred_val))\n",
    "\n",
    "TN, FP, FN, TP = conf_matrix.ravel()\n",
    "\n",
    "true_negative_rate = TN / (TN + FP)\n",
    "true_positive_rate = TP / (TP + FN)\n",
    "print(\"True Negative Rate (non default as non default):\", true_negative_rate)\n",
    "print(\"True Positive Rate (default as default):\", true_positive_rate)\n",
    "\n",
    "\n",
    "# true_negatives = np.sum((y_val == 1) & (y_pred_val == 1))\n",
    "# false_negatives = np.sum((y_val == 0) & (y_pred_val == 1))\n",
    "# true_positives = np.sum((y_val == 0) & (y_pred_val == 0))   \n",
    "# false_positives = np.sum((y_val == 1) & (y_pred_val == 0)) #important!\n",
    "\n",
    "# true_positive_rate = true_positives / (true_positives + false_negatives)\n",
    "# false_positive_rate = false_positives / (false_positives + true_negatives)\n",
    "# print(\"True Positive Rate:\", true_positive_rate)\n",
    "# print(\"False Positive Rate:\", false_positive_rate)\n",
    "# print(f\"Confusion Matrix:\\n{conf_matrix}\")"
   ]
  },
  {
   "cell_type": "markdown",
   "metadata": {},
   "source": [
    "Net Profit improvement in the validation set "
   ]
  },
  {
   "cell_type": "code",
   "execution_count": 230,
   "metadata": {},
   "outputs": [
    {
     "name": "stdout",
     "output_type": "stream",
     "text": [
      "Net profit: 3048747.575000003\n",
      "Net profit original: -48272015.629999995\n",
      "Improved profit: 51320763.205\n"
     ]
    }
   ],
   "source": [
    "# net profit of the model\n",
    "net_val_profit_model=net_profit(y_pred_val,original_validation_set)\n",
    "print(\"Net profit:\", net_val_profit_model)\n",
    "\n",
    "# Create vector of 0s (i.e. everyone receievd the loan in the training set) of size equal to the number of rows in the training set \n",
    "zeros=np.zeros(len(original_validation_set))\n",
    "net_val_profit=net_profit(zeros,original_validation_set)\n",
    "print(\"Net profit original:\", net_val_profit)\n",
    "\n",
    "improved_profit=net_val_profit_model-net_val_profit\n",
    "print(\"Improved profit:\", improved_profit)"
   ]
  },
  {
   "cell_type": "markdown",
   "metadata": {},
   "source": [
    "# test set\n"
   ]
  },
  {
   "cell_type": "code",
   "execution_count": 231,
   "metadata": {},
   "outputs": [
    {
     "name": "stderr",
     "output_type": "stream",
     "text": [
      "/var/folders/l6/8b55cv6j40b20nltsdxdq57h0000gn/T/ipykernel_72555/1533874959.py:2: SettingWithCopyWarning: \n",
      "A value is trying to be set on a copy of a slice from a DataFrame.\n",
      "Try using .loc[row_indexer,col_indexer] = value instead\n",
      "\n",
      "See the caveats in the documentation: https://pandas.pydata.org/pandas-docs/stable/user_guide/indexing.html#returning-a-view-versus-a-copy\n",
      "  test_set[categorical_columns] = test_set.loc[:, categorical_columns].astype('category')\n",
      "/var/folders/l6/8b55cv6j40b20nltsdxdq57h0000gn/T/ipykernel_72555/1533874959.py:5: SettingWithCopyWarning: \n",
      "A value is trying to be set on a copy of a slice from a DataFrame.\n",
      "Try using .loc[row_indexer,col_indexer] = value instead\n",
      "\n",
      "See the caveats in the documentation: https://pandas.pydata.org/pandas-docs/stable/user_guide/indexing.html#returning-a-view-versus-a-copy\n",
      "  test_set['issue_d'] = test_set.loc[:,'issue_d'].astype('category')\n"
     ]
    }
   ],
   "source": [
    "# Convert categorical columns to category type\n",
    "test_set[categorical_columns] = test_set.loc[:, categorical_columns].astype('category')\n",
    "\n",
    "# Convert 'issue_d' column to category type\n",
    "test_set['issue_d'] = test_set.loc[:,'issue_d'].astype('category')"
   ]
  },
  {
   "cell_type": "code",
   "execution_count": 232,
   "metadata": {},
   "outputs": [
    {
     "name": "stdout",
     "output_type": "stream",
     "text": [
      "Test set: \n",
      "Accuracy: 0.6456849900313301\n",
      "Classification Report:\n",
      "              precision    recall  f1-score   support\n",
      "\n",
      "           0       0.91      0.66      0.76     24400\n",
      "           1       0.20      0.56      0.29      3688\n",
      "\n",
      "    accuracy                           0.65     28088\n",
      "   macro avg       0.55      0.61      0.53     28088\n",
      "weighted avg       0.81      0.65      0.70     28088\n",
      "\n",
      "True Negative Rate (non default as non default): 0.6592213114754099\n",
      "True Positive Rate (default as default): 0.5561279826464208\n"
     ]
    }
   ],
   "source": [
    "X_test = test_set.drop(\"loan_status\", axis=1)\n",
    "y_test = test_set[\"loan_status\"]\n",
    "\n",
    "# Impute missing values in the validation set\n",
    "imputed_array = imputer.transform(X_test[numerical_columns_without_loan_status])\n",
    "intermediate = pd.DataFrame(imputed_array, columns=numerical_columns_without_loan_status)\n",
    "X_test[numerical_columns_without_loan_status] = intermediate\n",
    "\n",
    "# Predictions\n",
    "y_pred_test = clf.predict(X_test)\n",
    "\n",
    "# Confusion matrix\n",
    "conf_matrix = confusion_matrix(y_test, y_pred_test)\n",
    "\n",
    "# Evaluate model\n",
    "print(\"Test set: \")\n",
    "accuracy = accuracy_score(y_test, y_pred_test)\n",
    "print(\"Accuracy:\", accuracy)\n",
    "print(\"Classification Report:\")\n",
    "print(classification_report(y_test, y_pred_test))\n",
    "\n",
    "TN, FP, FN, TP = conf_matrix.ravel()\n",
    "\n",
    "true_negative_rate = TN / (TN + FP)\n",
    "true_positive_rate = TP / (TP + FN)\n",
    "print(\"True Negative Rate (non default as non default):\", true_negative_rate)\n",
    "print(\"True Positive Rate (default as default):\", true_positive_rate)\n",
    "\n",
    "\n",
    "# true_negatives = np.sum((y_val == 1) & (y_pred_val == 1))\n",
    "# false_negatives = np.sum((y_val == 0) & (y_pred_val == 1))\n",
    "# true_positives = np.sum((y_val == 0) & (y_pred_val == 0))   \n",
    "# false_positives = np.sum((y_val == 1) & (y_pred_val == 0)) #important!\n",
    "\n",
    "# true_positive_rate = true_positives / (true_positives + false_negatives)\n",
    "# false_positive_rate = false_positives / (false_positives + true_negatives)\n",
    "# print(\"True Positive Rate:\", true_positive_rate)\n",
    "# print(\"False Positive Rate:\", false_positive_rate)\n",
    "# print(f\"Confusion Matrix:\\n{conf_matrix}\")"
   ]
  },
  {
   "cell_type": "markdown",
   "metadata": {},
   "source": [
    "Net profit improvement in the test set"
   ]
  },
  {
   "cell_type": "code",
   "execution_count": 233,
   "metadata": {},
   "outputs": [
    {
     "name": "stdout",
     "output_type": "stream",
     "text": [
      "Net profit: 12074169.5625\n",
      "Net profit original: 20667631.3575\n",
      "Improved profit: -8593461.795000002\n"
     ]
    }
   ],
   "source": [
    "# net profit of the model\n",
    "net_test_profit_model=net_profit(y_pred_test,original_test_set)\n",
    "print(\"Net profit:\", net_test_profit_model)\n",
    "\n",
    "# Create vector of 0s (i.e. everyone receievd the loan in the training set) of size equal to the number of rows in the training set \n",
    "zeros=np.zeros(len(original_test_set))\n",
    "net_test_profit=net_profit(zeros,original_test_set)\n",
    "print(\"Net profit original:\", net_test_profit)\n",
    "\n",
    "improved_profit=net_test_profit_model-net_test_profit\n",
    "print(\"Improved profit:\", improved_profit)"
   ]
  }
 ],
 "metadata": {
  "kernelspec": {
   "display_name": "MNTF",
   "language": "python",
   "name": "python3"
  },
  "language_info": {
   "codemirror_mode": {
    "name": "ipython",
    "version": 3
   },
   "file_extension": ".py",
   "mimetype": "text/x-python",
   "name": "python",
   "nbconvert_exporter": "python",
   "pygments_lexer": "ipython3",
   "version": "3.12.1"
  }
 },
 "nbformat": 4,
 "nbformat_minor": 2
}
